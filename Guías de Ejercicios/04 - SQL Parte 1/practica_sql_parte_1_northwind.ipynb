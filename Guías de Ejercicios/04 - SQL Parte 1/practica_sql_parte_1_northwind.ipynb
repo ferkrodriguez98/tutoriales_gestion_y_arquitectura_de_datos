{
 "cells": [
  {
   "cell_type": "markdown",
   "metadata": {
    "vscode": {
     "languageId": "raw"
    }
   },
   "source": [
    "# Práctica SQL - Parte 1: Base de Datos Northwind\n",
    "\n",
    "En esta práctica vamos a trabajar con la base de datos Northwind, un ejemplo clásico de Microsoft que modela una empresa de comercio internacional.\n",
    "\n",
    "## Esquema de la Base de Datos\n",
    "\n",
    "![Esquema Northwind](https://miro.medium.com/v2/resize:fit:944/1*Qn-ac6Va4Oa0vLsH1suSaw.png)\n"
   ]
  },
  {
   "cell_type": "markdown",
   "metadata": {},
   "source": [
    "Primero, instalemos las librerías necesarias:"
   ]
  },
  {
   "cell_type": "code",
   "execution_count": 1,
   "metadata": {},
   "outputs": [
    {
     "name": "stdout",
     "output_type": "stream",
     "text": [
      "\n",
      "\u001b[1m[\u001b[0m\u001b[34;49mnotice\u001b[0m\u001b[1;39;49m]\u001b[0m\u001b[39;49m A new release of pip is available: \u001b[0m\u001b[31;49m25.0.1\u001b[0m\u001b[39;49m -> \u001b[0m\u001b[32;49m25.1.1\u001b[0m\n",
      "\u001b[1m[\u001b[0m\u001b[34;49mnotice\u001b[0m\u001b[1;39;49m]\u001b[0m\u001b[39;49m To update, run: \u001b[0m\u001b[32;49mpip install --upgrade pip\u001b[0m\n"
     ]
    }
   ],
   "source": [
    "!pip install ipython-sql==0.3.9 prettytable==3.5.0 sqlalchemy==1.4.46 --quiet"
   ]
  },
  {
   "cell_type": "code",
   "execution_count": 2,
   "metadata": {},
   "outputs": [
    {
     "data": {
      "text/plain": [
       "'Connected: @northwind.db'"
      ]
     },
     "execution_count": 2,
     "metadata": {},
     "output_type": "execute_result"
    }
   ],
   "source": [
    "%load_ext sql\n",
    "%sql sqlite:///northwind.db"
   ]
  },
  {
   "cell_type": "markdown",
   "metadata": {
    "vscode": {
     "languageId": "raw"
    }
   },
   "source": [
    "# Ejemplos de Consultas Básicas\n",
    "\n",
    "## 1. SELECT y WHERE\n",
    "Veamos los productos más caros (precio unitario mayor a $50):"
   ]
  },
  {
   "cell_type": "code",
   "execution_count": 4,
   "metadata": {},
   "outputs": [
    {
     "name": "stdout",
     "output_type": "stream",
     "text": [
      " * sqlite:///northwind.db\n",
      "Done.\n"
     ]
    },
    {
     "data": {
      "text/html": [
       "<table>\n",
       "    <thead>\n",
       "        <tr>\n",
       "            <th>ProductName</th>\n",
       "            <th>UnitPrice</th>\n",
       "        </tr>\n",
       "    </thead>\n",
       "    <tbody>\n",
       "        <tr>\n",
       "            <td>Côte de Blaye</td>\n",
       "            <td>263.5</td>\n",
       "        </tr>\n",
       "        <tr>\n",
       "            <td>Thüringer Rostbratwurst</td>\n",
       "            <td>123.79</td>\n",
       "        </tr>\n",
       "        <tr>\n",
       "            <td>Mishi Kobe Niku</td>\n",
       "            <td>97</td>\n",
       "        </tr>\n",
       "        <tr>\n",
       "            <td>Sir Rodney&#x27;s Marmalade</td>\n",
       "            <td>81</td>\n",
       "        </tr>\n",
       "        <tr>\n",
       "            <td>Carnarvon Tigers</td>\n",
       "            <td>62.5</td>\n",
       "        </tr>\n",
       "        <tr>\n",
       "            <td>Raclette Courdavault</td>\n",
       "            <td>55</td>\n",
       "        </tr>\n",
       "        <tr>\n",
       "            <td>Manjimup Dried Apples</td>\n",
       "            <td>53</td>\n",
       "        </tr>\n",
       "    </tbody>\n",
       "</table>"
      ],
      "text/plain": [
       "[('Côte de Blaye', 263.5),\n",
       " ('Thüringer Rostbratwurst', 123.79),\n",
       " ('Mishi Kobe Niku', 97),\n",
       " (\"Sir Rodney's Marmalade\", 81),\n",
       " ('Carnarvon Tigers', 62.5),\n",
       " ('Raclette Courdavault', 55),\n",
       " ('Manjimup Dried Apples', 53)]"
      ]
     },
     "execution_count": 4,
     "metadata": {},
     "output_type": "execute_result"
    }
   ],
   "source": [
    "%%sql\n",
    "SELECT ProductName, UnitPrice\n",
    "FROM Products\n",
    "WHERE UnitPrice > 50\n",
    "ORDER BY UnitPrice DESC;"
   ]
  },
  {
   "cell_type": "markdown",
   "metadata": {
    "vscode": {
     "languageId": "raw"
    }
   },
   "source": [
    "## 2. LIKE\n",
    "Busquemos productos que contengan la palabra \"Queso\" en su nombre:"
   ]
  },
  {
   "cell_type": "code",
   "execution_count": 5,
   "metadata": {},
   "outputs": [
    {
     "name": "stdout",
     "output_type": "stream",
     "text": [
      " * sqlite:///northwind.db\n",
      "Done.\n"
     ]
    },
    {
     "data": {
      "text/html": [
       "<table>\n",
       "    <thead>\n",
       "        <tr>\n",
       "            <th>ProductName</th>\n",
       "            <th>UnitPrice</th>\n",
       "            <th>UnitsInStock</th>\n",
       "        </tr>\n",
       "    </thead>\n",
       "    <tbody>\n",
       "        <tr>\n",
       "            <td>Queso Cabrales</td>\n",
       "            <td>21</td>\n",
       "            <td>22</td>\n",
       "        </tr>\n",
       "        <tr>\n",
       "            <td>Queso Manchego La Pastora</td>\n",
       "            <td>38</td>\n",
       "            <td>86</td>\n",
       "        </tr>\n",
       "    </tbody>\n",
       "</table>"
      ],
      "text/plain": [
       "[('Queso Cabrales', 21, 22), ('Queso Manchego La Pastora', 38, 86)]"
      ]
     },
     "execution_count": 5,
     "metadata": {},
     "output_type": "execute_result"
    }
   ],
   "source": [
    "%%sql\n",
    "\n",
    "SELECT ProductName, UnitPrice, UnitsInStock\n",
    "FROM Products\n",
    "WHERE ProductName LIKE '%Queso%';"
   ]
  },
  {
   "cell_type": "markdown",
   "metadata": {
    "vscode": {
     "languageId": "raw"
    }
   },
   "source": [
    "## 3. JOIN\n",
    "Veamos los pedidos junto con el nombre del cliente y el empleado que lo procesó:"
   ]
  },
  {
   "cell_type": "code",
   "execution_count": 6,
   "metadata": {},
   "outputs": [
    {
     "name": "stdout",
     "output_type": "stream",
     "text": [
      " * sqlite:///northwind.db\n",
      "Done.\n"
     ]
    },
    {
     "data": {
      "text/html": [
       "<table>\n",
       "    <thead>\n",
       "        <tr>\n",
       "            <th>OrderID</th>\n",
       "            <th>Cliente</th>\n",
       "            <th>Empleado</th>\n",
       "        </tr>\n",
       "    </thead>\n",
       "    <tbody>\n",
       "        <tr>\n",
       "            <td>10248</td>\n",
       "            <td>Vins et alcools Chevalier</td>\n",
       "            <td>Steven Buchanan</td>\n",
       "        </tr>\n",
       "        <tr>\n",
       "            <td>10249</td>\n",
       "            <td>Toms Spezialitäten</td>\n",
       "            <td>Michael Suyama</td>\n",
       "        </tr>\n",
       "        <tr>\n",
       "            <td>10250</td>\n",
       "            <td>Hanari Carnes</td>\n",
       "            <td>Margaret Peacock</td>\n",
       "        </tr>\n",
       "        <tr>\n",
       "            <td>10251</td>\n",
       "            <td>Victuailles en stock</td>\n",
       "            <td>Janet Leverling</td>\n",
       "        </tr>\n",
       "        <tr>\n",
       "            <td>10252</td>\n",
       "            <td>Suprêmes délices</td>\n",
       "            <td>Margaret Peacock</td>\n",
       "        </tr>\n",
       "    </tbody>\n",
       "</table>"
      ],
      "text/plain": [
       "[(10248, 'Vins et alcools Chevalier', 'Steven Buchanan'),\n",
       " (10249, 'Toms Spezialitäten', 'Michael Suyama'),\n",
       " (10250, 'Hanari Carnes', 'Margaret Peacock'),\n",
       " (10251, 'Victuailles en stock', 'Janet Leverling'),\n",
       " (10252, 'Suprêmes délices', 'Margaret Peacock')]"
      ]
     },
     "execution_count": 6,
     "metadata": {},
     "output_type": "execute_result"
    }
   ],
   "source": [
    "%%sql\n",
    "\n",
    "SELECT o.OrderID, \n",
    "       c.CompanyName as Cliente,\n",
    "       e.FirstName || ' ' || e.LastName as Empleado \n",
    "FROM Orders o\n",
    "JOIN Customers c ON o.CustomerID = c.CustomerID\n",
    "JOIN Employees e ON o.EmployeeID = e.EmployeeID\n",
    "LIMIT 5;"
   ]
  },
  {
   "cell_type": "markdown",
   "metadata": {},
   "source": [
    "Nota: lo siguiente hace que podamos concatenar nombre y apellido para mostrarlo\n",
    "\n",
    "e.FirstName || ' ' || e.LastName as Empleado"
   ]
  },
  {
   "cell_type": "markdown",
   "metadata": {
    "vscode": {
     "languageId": "raw"
    }
   },
   "source": [
    "## 4. Funciones de Agregación\n",
    "Calculemos algunas estadísticas sobre los pedidos:"
   ]
  },
  {
   "cell_type": "code",
   "execution_count": 7,
   "metadata": {},
   "outputs": [
    {
     "name": "stdout",
     "output_type": "stream",
     "text": [
      " * sqlite:///northwind.db\n",
      "Done.\n"
     ]
    },
    {
     "data": {
      "text/html": [
       "<table>\n",
       "    <thead>\n",
       "        <tr>\n",
       "            <th>TotalPedidos</th>\n",
       "            <th>ClientesUnicos</th>\n",
       "            <th>PromedioEnvio</th>\n",
       "            <th>UltimoPedido</th>\n",
       "        </tr>\n",
       "    </thead>\n",
       "    <tbody>\n",
       "        <tr>\n",
       "            <td>16282</td>\n",
       "            <td>93</td>\n",
       "            <td>248.58558530893012</td>\n",
       "            <td>2023-10-28 00:09:48</td>\n",
       "        </tr>\n",
       "    </tbody>\n",
       "</table>"
      ],
      "text/plain": [
       "[(16282, 93, 248.58558530893012, '2023-10-28 00:09:48')]"
      ]
     },
     "execution_count": 7,
     "metadata": {},
     "output_type": "execute_result"
    }
   ],
   "source": [
    "%%sql\n",
    "SELECT \n",
    "    COUNT(*) as TotalPedidos,\n",
    "    COUNT(DISTINCT CustomerID) as ClientesUnicos,\n",
    "    AVG(Freight) as PromedioEnvio,\n",
    "    MAX(OrderDate) as UltimoPedido\n",
    "FROM Orders;"
   ]
  },
  {
   "cell_type": "markdown",
   "metadata": {
    "vscode": {
     "languageId": "raw"
    }
   },
   "source": [
    "## 5. GROUP BY\n",
    "Veamos el total de ventas por categoría:"
   ]
  },
  {
   "cell_type": "code",
   "execution_count": 11,
   "metadata": {},
   "outputs": [
    {
     "name": "stdout",
     "output_type": "stream",
     "text": [
      " * sqlite:///northwind.db\n",
      "Done.\n"
     ]
    },
    {
     "data": {
      "text/html": [
       "<table>\n",
       "    <thead>\n",
       "        <tr>\n",
       "            <th>CategoryName</th>\n",
       "            <th>CantidadProductos</th>\n",
       "            <th>VentasTotal</th>\n",
       "        </tr>\n",
       "    </thead>\n",
       "    <tbody>\n",
       "        <tr>\n",
       "            <td>Beverages</td>\n",
       "            <td>12</td>\n",
       "            <td>92181842.95</td>\n",
       "        </tr>\n",
       "        <tr>\n",
       "            <td>Confections</td>\n",
       "            <td>13</td>\n",
       "            <td>66347544.94</td>\n",
       "        </tr>\n",
       "        <tr>\n",
       "            <td>Meat/Poultry</td>\n",
       "            <td>6</td>\n",
       "            <td>64896314.410000004</td>\n",
       "        </tr>\n",
       "        <tr>\n",
       "            <td>Dairy Products</td>\n",
       "            <td>10</td>\n",
       "            <td>58034940.0</td>\n",
       "        </tr>\n",
       "        <tr>\n",
       "            <td>Condiments</td>\n",
       "            <td>12</td>\n",
       "            <td>55802774.45</td>\n",
       "        </tr>\n",
       "        <tr>\n",
       "            <td>Seafood</td>\n",
       "            <td>12</td>\n",
       "            <td>49931965.52</td>\n",
       "        </tr>\n",
       "        <tr>\n",
       "            <td>Produce</td>\n",
       "            <td>5</td>\n",
       "            <td>32706403.9</td>\n",
       "        </tr>\n",
       "        <tr>\n",
       "            <td>Grains/Cereals</td>\n",
       "            <td>7</td>\n",
       "            <td>28573512.55</td>\n",
       "        </tr>\n",
       "    </tbody>\n",
       "</table>"
      ],
      "text/plain": [
       "[('Beverages', 12, 92181842.95),\n",
       " ('Confections', 13, 66347544.94),\n",
       " ('Meat/Poultry', 6, 64896314.410000004),\n",
       " ('Dairy Products', 10, 58034940.0),\n",
       " ('Condiments', 12, 55802774.45),\n",
       " ('Seafood', 12, 49931965.52),\n",
       " ('Produce', 5, 32706403.9),\n",
       " ('Grains/Cereals', 7, 28573512.55)]"
      ]
     },
     "execution_count": 11,
     "metadata": {},
     "output_type": "execute_result"
    }
   ],
   "source": [
    "%%sql\n",
    "SELECT \n",
    "    c.CategoryName,\n",
    "    COUNT(DISTINCT p.ProductID) as CantidadProductos,\n",
    "    SUM(od.Quantity * od.UnitPrice) as VentasTotal\n",
    "FROM Categories c\n",
    "JOIN Products p ON c.CategoryID = p.CategoryID\n",
    "JOIN \"Order Details\" od ON p.ProductID = od.ProductID\n",
    "GROUP BY c.CategoryID, c.CategoryName\n",
    "ORDER BY VentasTotal DESC;"
   ]
  },
  {
   "cell_type": "markdown",
   "metadata": {},
   "source": [
    "Nota: Tenemos que usar \"Order Details\" entre comillas porque la tabla tiene un espacio en el nombre."
   ]
  },
  {
   "cell_type": "markdown",
   "metadata": {
    "vscode": {
     "languageId": "raw"
    }
   },
   "source": [
    "# Ejercicios\n",
    "\n",
    "Vamos ahora a dejar unos ejercicios para que ustedes hagan. Intenten resolver los ejercicios por su cuenta. Las respuesta se encuentran más al final del notebook."
   ]
  },
  {
   "cell_type": "markdown",
   "metadata": {},
   "source": [
    "1. Mostrar los 5 productos más vendidos (por cantidad de unidades) junto con su categoría."
   ]
  },
  {
   "cell_type": "code",
   "execution_count": null,
   "metadata": {},
   "outputs": [],
   "source": [
    "%%sql\n"
   ]
  },
  {
   "cell_type": "markdown",
   "metadata": {
    "vscode": {
     "languageId": "raw"
    }
   },
   "source": [
    "2. Encontrar los clientes que no han realizado ningún pedido desde agosto de 2023."
   ]
  },
  {
   "cell_type": "code",
   "execution_count": null,
   "metadata": {},
   "outputs": [],
   "source": [
    "%%sql\n"
   ]
  },
  {
   "cell_type": "markdown",
   "metadata": {
    "vscode": {
     "languageId": "raw"
    }
   },
   "source": [
    "3. Listar los empleados que han vendido más de $100,000 en total, mostrando el monto total vendido."
   ]
  },
  {
   "cell_type": "code",
   "execution_count": null,
   "metadata": {},
   "outputs": [],
   "source": [
    "%%sql\n"
   ]
  },
  {
   "cell_type": "markdown",
   "metadata": {
    "vscode": {
     "languageId": "raw"
    }
   },
   "source": [
    "4. Mostrá los empleados que atendieron al menos una orden con destino a un cliente en Alemania, junto con la cantidad de esas órdenes."
   ]
  },
  {
   "cell_type": "code",
   "execution_count": null,
   "metadata": {},
   "outputs": [],
   "source": [
    "%%sql\n"
   ]
  },
  {
   "cell_type": "markdown",
   "metadata": {
    "vscode": {
     "languageId": "raw"
    }
   },
   "source": [
    "5. Calcular el valor total del inventario (unidades en stock * precio unitario) por categoría.\n"
   ]
  },
  {
   "cell_type": "code",
   "execution_count": null,
   "metadata": {},
   "outputs": [],
   "source": [
    "%%sql\n"
   ]
  },
  {
   "cell_type": "markdown",
   "metadata": {
    "vscode": {
     "languageId": "raw"
    }
   },
   "source": [
    "6. Listar los empleados con la cantidad total de órdenes que gestionaron y el total de productos vendidos en esas órdenes."
   ]
  },
  {
   "cell_type": "code",
   "execution_count": null,
   "metadata": {},
   "outputs": [],
   "source": [
    "%%sql\n"
   ]
  },
  {
   "cell_type": "markdown",
   "metadata": {
    "vscode": {
     "languageId": "raw"
    }
   },
   "source": [
    "7. Para cada proveedor (Suppliers), mostrá cuántos productos distintos suyos fueron vendidos al menos una vez."
   ]
  },
  {
   "cell_type": "code",
   "execution_count": null,
   "metadata": {},
   "outputs": [],
   "source": [
    "%%sql\n"
   ]
  },
  {
   "cell_type": "markdown",
   "metadata": {},
   "source": [
    "8. Clientes por país con total de órdenes y unidades compradas"
   ]
  },
  {
   "cell_type": "code",
   "execution_count": null,
   "metadata": {},
   "outputs": [],
   "source": [
    "%%sql\n"
   ]
  },
  {
   "cell_type": "markdown",
   "metadata": {},
   "source": [
    "9. Promedio de productos por orden, por empleado"
   ]
  },
  {
   "cell_type": "code",
   "execution_count": null,
   "metadata": {},
   "outputs": [],
   "source": [
    "%% sql\n"
   ]
  },
  {
   "cell_type": "markdown",
   "metadata": {},
   "source": [
    "10. Mostrar los productos vendidos (distintos) por categoría"
   ]
  },
  {
   "cell_type": "code",
   "execution_count": null,
   "metadata": {},
   "outputs": [],
   "source": [
    "%% sql\n"
   ]
  },
  {
   "cell_type": "markdown",
   "metadata": {
    "vscode": {
     "languageId": "raw"
    }
   },
   "source": [
    "# Soluciones\n",
    "\n",
    "A continuación se encuentran las soluciones para los ejercicios que se plantearon arriba. Intenten resolverlos por su cuenta antes de ver las respuestas."
   ]
  },
  {
   "cell_type": "markdown",
   "metadata": {},
   "source": [
    "1. Los 5 productos más vendidos"
   ]
  },
  {
   "cell_type": "code",
   "execution_count": 13,
   "metadata": {},
   "outputs": [
    {
     "name": "stdout",
     "output_type": "stream",
     "text": [
      " * sqlite:///northwind.db\n",
      "Done.\n"
     ]
    },
    {
     "data": {
      "text/html": [
       "<table>\n",
       "    <thead>\n",
       "        <tr>\n",
       "            <th>ProductName</th>\n",
       "            <th>CategoryName</th>\n",
       "            <th>UnidadesVendidas</th>\n",
       "        </tr>\n",
       "    </thead>\n",
       "    <tbody>\n",
       "        <tr>\n",
       "            <td>Louisiana Hot Spiced Okra</td>\n",
       "            <td>Condiments</td>\n",
       "            <td>206213</td>\n",
       "        </tr>\n",
       "        <tr>\n",
       "            <td>Sir Rodney&#x27;s Marmalade</td>\n",
       "            <td>Confections</td>\n",
       "            <td>205637</td>\n",
       "        </tr>\n",
       "        <tr>\n",
       "            <td>Teatime Chocolate Biscuits</td>\n",
       "            <td>Confections</td>\n",
       "            <td>205487</td>\n",
       "        </tr>\n",
       "        <tr>\n",
       "            <td>Sirop d&#x27;érable</td>\n",
       "            <td>Condiments</td>\n",
       "            <td>205005</td>\n",
       "        </tr>\n",
       "        <tr>\n",
       "            <td>Gumbär Gummibärchen</td>\n",
       "            <td>Confections</td>\n",
       "            <td>204761</td>\n",
       "        </tr>\n",
       "    </tbody>\n",
       "</table>"
      ],
      "text/plain": [
       "[('Louisiana Hot Spiced Okra', 'Condiments', 206213),\n",
       " (\"Sir Rodney's Marmalade\", 'Confections', 205637),\n",
       " ('Teatime Chocolate Biscuits', 'Confections', 205487),\n",
       " (\"Sirop d'érable\", 'Condiments', 205005),\n",
       " ('Gumbär Gummibärchen', 'Confections', 204761)]"
      ]
     },
     "execution_count": 13,
     "metadata": {},
     "output_type": "execute_result"
    }
   ],
   "source": [
    "%%sql\n",
    "SELECT p.ProductName, c.CategoryName, SUM(od.Quantity) as UnidadesVendidas\n",
    "FROM Products p\n",
    "JOIN Categories c ON p.CategoryID = c.CategoryID\n",
    "JOIN \"Order Details\" od ON p.ProductID = od.ProductID\n",
    "GROUP BY p.ProductID, p.ProductName, c.CategoryName\n",
    "ORDER BY UnidadesVendidas DESC\n",
    "LIMIT 5;"
   ]
  },
  {
   "cell_type": "markdown",
   "metadata": {
    "vscode": {
     "languageId": "raw"
    }
   },
   "source": [
    "2. Clientes sin pedidos desde agosto de 2023"
   ]
  },
  {
   "cell_type": "code",
   "execution_count": 24,
   "metadata": {},
   "outputs": [
    {
     "name": "stdout",
     "output_type": "stream",
     "text": [
      " * sqlite:///northwind.db\n",
      "Done.\n"
     ]
    },
    {
     "data": {
      "text/html": [
       "<table>\n",
       "    <thead>\n",
       "        <tr>\n",
       "            <th>CompanyName</th>\n",
       "            <th>Country</th>\n",
       "            <th>UltimoPedido</th>\n",
       "        </tr>\n",
       "    </thead>\n",
       "    <tbody>\n",
       "        <tr>\n",
       "            <td>FISSA Fabrica Inter. Salchichas S.A.</td>\n",
       "            <td>Spain</td>\n",
       "            <td>2023-05-11 09:30:59</td>\n",
       "        </tr>\n",
       "        <tr>\n",
       "            <td>Mère Paillarde</td>\n",
       "            <td>Canada</td>\n",
       "            <td>2023-07-09 22:36:22</td>\n",
       "        </tr>\n",
       "        <tr>\n",
       "            <td>Pericles Comidas clásicas</td>\n",
       "            <td>Mexico</td>\n",
       "            <td>2023-07-27 03:20:11</td>\n",
       "        </tr>\n",
       "        <tr>\n",
       "            <td>QUICK-Stop</td>\n",
       "            <td>Germany</td>\n",
       "            <td>2023-06-22 00:56:44</td>\n",
       "        </tr>\n",
       "        <tr>\n",
       "            <td>The Big Cheese</td>\n",
       "            <td>USA</td>\n",
       "            <td>2023-07-16 19:29:58</td>\n",
       "        </tr>\n",
       "    </tbody>\n",
       "</table>"
      ],
      "text/plain": [
       "[('FISSA Fabrica Inter. Salchichas S.A.', 'Spain', '2023-05-11 09:30:59'),\n",
       " ('Mère Paillarde', 'Canada', '2023-07-09 22:36:22'),\n",
       " ('Pericles Comidas clásicas', 'Mexico', '2023-07-27 03:20:11'),\n",
       " ('QUICK-Stop', 'Germany', '2023-06-22 00:56:44'),\n",
       " ('The Big Cheese', 'USA', '2023-07-16 19:29:58')]"
      ]
     },
     "execution_count": 24,
     "metadata": {},
     "output_type": "execute_result"
    }
   ],
   "source": [
    "%%sql\n",
    "SELECT c.CompanyName, c.Country, MAX(o.OrderDate) as UltimoPedido\n",
    "FROM Customers c\n",
    "LEFT JOIN Orders o ON c.CustomerID = o.CustomerID\n",
    "GROUP BY c.CustomerID, c.CompanyName, c.Country\n",
    "HAVING UltimoPedido < '2023-08-01' OR UltimoPedido IS NULL;"
   ]
  },
  {
   "cell_type": "markdown",
   "metadata": {
    "vscode": {
     "languageId": "raw"
    }
   },
   "source": [
    "3. Empleados con ventas mayores a $100,000"
   ]
  },
  {
   "cell_type": "code",
   "execution_count": 26,
   "metadata": {},
   "outputs": [
    {
     "name": "stdout",
     "output_type": "stream",
     "text": [
      " * sqlite:///northwind.db\n",
      "Done.\n"
     ]
    },
    {
     "data": {
      "text/html": [
       "<table>\n",
       "    <thead>\n",
       "        <tr>\n",
       "            <th>Empleado</th>\n",
       "            <th>VentasTotal</th>\n",
       "        </tr>\n",
       "    </thead>\n",
       "    <tbody>\n",
       "        <tr>\n",
       "            <td>Margaret Peacock</td>\n",
       "            <td>51505691.8</td>\n",
       "        </tr>\n",
       "        <tr>\n",
       "            <td>Steven Buchanan</td>\n",
       "            <td>51393234.57</td>\n",
       "        </tr>\n",
       "        <tr>\n",
       "            <td>Janet Leverling</td>\n",
       "            <td>50455812.22</td>\n",
       "        </tr>\n",
       "        <tr>\n",
       "            <td>Nancy Davolio</td>\n",
       "            <td>49669459.34</td>\n",
       "        </tr>\n",
       "        <tr>\n",
       "            <td>Robert King</td>\n",
       "            <td>49668627.06</td>\n",
       "        </tr>\n",
       "        <tr>\n",
       "            <td>Laura Callahan</td>\n",
       "            <td>49287575.56</td>\n",
       "        </tr>\n",
       "        <tr>\n",
       "            <td>Michael Suyama</td>\n",
       "            <td>49144251.53</td>\n",
       "        </tr>\n",
       "        <tr>\n",
       "            <td>Anne Dodsworth</td>\n",
       "            <td>49025334.37</td>\n",
       "        </tr>\n",
       "        <tr>\n",
       "            <td>Andrew Fuller</td>\n",
       "            <td>48325312.27</td>\n",
       "        </tr>\n",
       "    </tbody>\n",
       "</table>"
      ],
      "text/plain": [
       "[('Margaret Peacock', 51505691.8),\n",
       " ('Steven Buchanan', 51393234.57),\n",
       " ('Janet Leverling', 50455812.22),\n",
       " ('Nancy Davolio', 49669459.34),\n",
       " ('Robert King', 49668627.06),\n",
       " ('Laura Callahan', 49287575.56),\n",
       " ('Michael Suyama', 49144251.53),\n",
       " ('Anne Dodsworth', 49025334.37),\n",
       " ('Andrew Fuller', 48325312.27)]"
      ]
     },
     "execution_count": 26,
     "metadata": {},
     "output_type": "execute_result"
    }
   ],
   "source": [
    "%%sql\n",
    "SELECT \n",
    "    e.FirstName || ' ' || e.LastName as Empleado,\n",
    "    SUM(od.Quantity * od.UnitPrice) as VentasTotal\n",
    "FROM Employees e\n",
    "JOIN Orders o ON e.EmployeeID = o.EmployeeID\n",
    "JOIN \"Order Details\" od ON o.OrderID = od.OrderID\n",
    "GROUP BY e.EmployeeID, e.FirstName, e.LastName\n",
    "HAVING VentasTotal > 100000\n",
    "ORDER BY VentasTotal DESC;"
   ]
  },
  {
   "cell_type": "markdown",
   "metadata": {
    "vscode": {
     "languageId": "raw"
    }
   },
   "source": [
    "4. Mostrá los empleados que atendieron al menos una orden con destino a un cliente en Alemania, junto con la cantidad de esas órdenes."
   ]
  },
  {
   "cell_type": "code",
   "execution_count": 36,
   "metadata": {},
   "outputs": [
    {
     "name": "stdout",
     "output_type": "stream",
     "text": [
      " * sqlite:///northwind.db\n",
      "Done.\n"
     ]
    },
    {
     "data": {
      "text/html": [
       "<table>\n",
       "    <thead>\n",
       "        <tr>\n",
       "            <th>Empleado</th>\n",
       "            <th>OrdenesAlemania</th>\n",
       "        </tr>\n",
       "    </thead>\n",
       "    <tbody>\n",
       "        <tr>\n",
       "            <td>Andrew Fuller</td>\n",
       "            <td>229</td>\n",
       "        </tr>\n",
       "        <tr>\n",
       "            <td>Laura Callahan</td>\n",
       "            <td>229</td>\n",
       "        </tr>\n",
       "        <tr>\n",
       "            <td>Margaret Peacock</td>\n",
       "            <td>224</td>\n",
       "        </tr>\n",
       "        <tr>\n",
       "            <td>Janet Leverling</td>\n",
       "            <td>218</td>\n",
       "        </tr>\n",
       "        <tr>\n",
       "            <td>Nancy Davolio</td>\n",
       "            <td>215</td>\n",
       "        </tr>\n",
       "        <tr>\n",
       "            <td>Michael Suyama</td>\n",
       "            <td>215</td>\n",
       "        </tr>\n",
       "        <tr>\n",
       "            <td>Anne Dodsworth</td>\n",
       "            <td>198</td>\n",
       "        </tr>\n",
       "        <tr>\n",
       "            <td>Robert King</td>\n",
       "            <td>189</td>\n",
       "        </tr>\n",
       "        <tr>\n",
       "            <td>Steven Buchanan</td>\n",
       "            <td>178</td>\n",
       "        </tr>\n",
       "    </tbody>\n",
       "</table>"
      ],
      "text/plain": [
       "[('Andrew Fuller', 229),\n",
       " ('Laura Callahan', 229),\n",
       " ('Margaret Peacock', 224),\n",
       " ('Janet Leverling', 218),\n",
       " ('Nancy Davolio', 215),\n",
       " ('Michael Suyama', 215),\n",
       " ('Anne Dodsworth', 198),\n",
       " ('Robert King', 189),\n",
       " ('Steven Buchanan', 178)]"
      ]
     },
     "execution_count": 36,
     "metadata": {},
     "output_type": "execute_result"
    }
   ],
   "source": [
    "%%sql\n",
    "SELECT \n",
    "    e.FirstName || ' ' || e.LastName AS Empleado,\n",
    "    COUNT(o.OrderID) AS OrdenesAlemania\n",
    "FROM Employees e\n",
    "JOIN Orders o ON e.EmployeeID = o.EmployeeID\n",
    "JOIN Customers c ON o.CustomerID = c.CustomerID\n",
    "WHERE c.Country = 'Germany'\n",
    "GROUP BY e.EmployeeID, Empleado\n",
    "ORDER BY OrdenesAlemania DESC;"
   ]
  },
  {
   "cell_type": "markdown",
   "metadata": {
    "vscode": {
     "languageId": "raw"
    }
   },
   "source": [
    "5. Valor total del inventario por categoría"
   ]
  },
  {
   "cell_type": "code",
   "execution_count": 29,
   "metadata": {},
   "outputs": [
    {
     "name": "stdout",
     "output_type": "stream",
     "text": [
      " * sqlite:///northwind.db\n",
      "Done.\n"
     ]
    },
    {
     "data": {
      "text/html": [
       "<table>\n",
       "    <thead>\n",
       "        <tr>\n",
       "            <th>CategoryName</th>\n",
       "            <th>ValorInventario</th>\n",
       "        </tr>\n",
       "    </thead>\n",
       "    <tbody>\n",
       "        <tr>\n",
       "            <td>Seafood</td>\n",
       "            <td>13010.35</td>\n",
       "        </tr>\n",
       "        <tr>\n",
       "            <td>Beverages</td>\n",
       "            <td>12480.25</td>\n",
       "        </tr>\n",
       "        <tr>\n",
       "            <td>Condiments</td>\n",
       "            <td>12023.55</td>\n",
       "        </tr>\n",
       "        <tr>\n",
       "            <td>Dairy Products</td>\n",
       "            <td>11271.2</td>\n",
       "        </tr>\n",
       "        <tr>\n",
       "            <td>Confections</td>\n",
       "            <td>10392.199999999999</td>\n",
       "        </tr>\n",
       "        <tr>\n",
       "            <td>Meat/Poultry</td>\n",
       "            <td>5729.45</td>\n",
       "        </tr>\n",
       "        <tr>\n",
       "            <td>Grains/Cereals</td>\n",
       "            <td>5594.5</td>\n",
       "        </tr>\n",
       "        <tr>\n",
       "            <td>Produce</td>\n",
       "            <td>3549.3500000000004</td>\n",
       "        </tr>\n",
       "    </tbody>\n",
       "</table>"
      ],
      "text/plain": [
       "[('Seafood', 13010.35),\n",
       " ('Beverages', 12480.25),\n",
       " ('Condiments', 12023.55),\n",
       " ('Dairy Products', 11271.2),\n",
       " ('Confections', 10392.199999999999),\n",
       " ('Meat/Poultry', 5729.45),\n",
       " ('Grains/Cereals', 5594.5),\n",
       " ('Produce', 3549.3500000000004)]"
      ]
     },
     "execution_count": 29,
     "metadata": {},
     "output_type": "execute_result"
    }
   ],
   "source": [
    "%%sql\n",
    "SELECT \n",
    "    c.CategoryName,\n",
    "    SUM(p.UnitsInStock * p.UnitPrice) as ValorInventario\n",
    "FROM Categories c\n",
    "JOIN Products p ON c.CategoryID = p.CategoryID\n",
    "GROUP BY c.CategoryID, c.CategoryName\n",
    "ORDER BY ValorInventario DESC;"
   ]
  },
  {
   "cell_type": "markdown",
   "metadata": {
    "vscode": {
     "languageId": "raw"
    }
   },
   "source": [
    "6. Listar los empleados con la cantidad total de órdenes que gestionaron y el total de productos vendidos en esas órdenes."
   ]
  },
  {
   "cell_type": "code",
   "execution_count": 33,
   "metadata": {},
   "outputs": [
    {
     "name": "stdout",
     "output_type": "stream",
     "text": [
      " * sqlite:///northwind.db\n",
      "Done.\n"
     ]
    },
    {
     "data": {
      "text/html": [
       "<table>\n",
       "    <thead>\n",
       "        <tr>\n",
       "            <th>Empleado</th>\n",
       "            <th>TotalOrdenes</th>\n",
       "            <th>TotalProductosVendidos</th>\n",
       "        </tr>\n",
       "    </thead>\n",
       "    <tbody>\n",
       "        <tr>\n",
       "            <td>Margaret Peacock</td>\n",
       "            <td>1908</td>\n",
       "            <td>1783482</td>\n",
       "        </tr>\n",
       "        <tr>\n",
       "            <td>Steven Buchanan</td>\n",
       "            <td>1804</td>\n",
       "            <td>1774436</td>\n",
       "        </tr>\n",
       "        <tr>\n",
       "            <td>Janet Leverling</td>\n",
       "            <td>1846</td>\n",
       "            <td>1737784</td>\n",
       "        </tr>\n",
       "        <tr>\n",
       "            <td>Nancy Davolio</td>\n",
       "            <td>1846</td>\n",
       "            <td>1728186</td>\n",
       "        </tr>\n",
       "        <tr>\n",
       "            <td>Robert King</td>\n",
       "            <td>1789</td>\n",
       "            <td>1719478</td>\n",
       "        </tr>\n",
       "        <tr>\n",
       "            <td>Laura Callahan</td>\n",
       "            <td>1798</td>\n",
       "            <td>1718574</td>\n",
       "        </tr>\n",
       "        <tr>\n",
       "            <td>Michael Suyama</td>\n",
       "            <td>1754</td>\n",
       "            <td>1694483</td>\n",
       "        </tr>\n",
       "        <tr>\n",
       "            <td>Anne Dodsworth</td>\n",
       "            <td>1766</td>\n",
       "            <td>1694072</td>\n",
       "        </tr>\n",
       "        <tr>\n",
       "            <td>Andrew Fuller</td>\n",
       "            <td>1771</td>\n",
       "            <td>1688107</td>\n",
       "        </tr>\n",
       "    </tbody>\n",
       "</table>"
      ],
      "text/plain": [
       "[('Margaret Peacock', 1908, 1783482),\n",
       " ('Steven Buchanan', 1804, 1774436),\n",
       " ('Janet Leverling', 1846, 1737784),\n",
       " ('Nancy Davolio', 1846, 1728186),\n",
       " ('Robert King', 1789, 1719478),\n",
       " ('Laura Callahan', 1798, 1718574),\n",
       " ('Michael Suyama', 1754, 1694483),\n",
       " ('Anne Dodsworth', 1766, 1694072),\n",
       " ('Andrew Fuller', 1771, 1688107)]"
      ]
     },
     "execution_count": 33,
     "metadata": {},
     "output_type": "execute_result"
    }
   ],
   "source": [
    "%%sql\n",
    "SELECT \n",
    "    e.FirstName || ' ' || e.LastName AS Empleado,\n",
    "    COUNT(DISTINCT o.OrderID) AS TotalOrdenes,\n",
    "    SUM(od.Quantity) AS TotalProductosVendidos\n",
    "FROM Employees e\n",
    "JOIN Orders o ON e.EmployeeID = o.EmployeeID\n",
    "JOIN \"Order Details\" od ON o.OrderID = od.OrderID\n",
    "GROUP BY e.EmployeeID, Empleado\n",
    "ORDER BY TotalProductosVendidos DESC;\n"
   ]
  },
  {
   "cell_type": "markdown",
   "metadata": {
    "vscode": {
     "languageId": "raw"
    }
   },
   "source": [
    "7. Para cada proveedor (Suppliers), mostrá cuántos productos distintos suyos fueron vendidos al menos una vez."
   ]
  },
  {
   "cell_type": "code",
   "execution_count": 35,
   "metadata": {},
   "outputs": [
    {
     "name": "stdout",
     "output_type": "stream",
     "text": [
      " * sqlite:///northwind.db\n",
      "Done.\n"
     ]
    },
    {
     "data": {
      "text/html": [
       "<table>\n",
       "    <thead>\n",
       "        <tr>\n",
       "            <th>Proveedor</th>\n",
       "            <th>ProductosVendidos</th>\n",
       "        </tr>\n",
       "    </thead>\n",
       "    <tbody>\n",
       "        <tr>\n",
       "            <td>Pavlova, Ltd.</td>\n",
       "            <td>5</td>\n",
       "        </tr>\n",
       "        <tr>\n",
       "            <td>Plutzer Lebensmittelgroßmärkte AG</td>\n",
       "            <td>5</td>\n",
       "        </tr>\n",
       "        <tr>\n",
       "            <td>New Orleans Cajun Delights</td>\n",
       "            <td>4</td>\n",
       "        </tr>\n",
       "        <tr>\n",
       "            <td>Specialty Biscuits, Ltd.</td>\n",
       "            <td>4</td>\n",
       "        </tr>\n",
       "        <tr>\n",
       "            <td>Exotic Liquids</td>\n",
       "            <td>3</td>\n",
       "        </tr>\n",
       "        <tr>\n",
       "            <td>Grandma Kelly&#x27;s Homestead</td>\n",
       "            <td>3</td>\n",
       "        </tr>\n",
       "        <tr>\n",
       "            <td>Tokyo Traders</td>\n",
       "            <td>3</td>\n",
       "        </tr>\n",
       "        <tr>\n",
       "            <td>Mayumi&#x27;s</td>\n",
       "            <td>3</td>\n",
       "        </tr>\n",
       "        <tr>\n",
       "            <td>Heli Süßwaren GmbH &amp; Co. KG</td>\n",
       "            <td>3</td>\n",
       "        </tr>\n",
       "        <tr>\n",
       "            <td>Formaggi Fortini s.r.l.</td>\n",
       "            <td>3</td>\n",
       "        </tr>\n",
       "        <tr>\n",
       "            <td>Norske Meierier</td>\n",
       "            <td>3</td>\n",
       "        </tr>\n",
       "        <tr>\n",
       "            <td>Bigfoot Breweries</td>\n",
       "            <td>3</td>\n",
       "        </tr>\n",
       "        <tr>\n",
       "            <td>Svensk Sjöföda AB</td>\n",
       "            <td>3</td>\n",
       "        </tr>\n",
       "        <tr>\n",
       "            <td>Leka Trading</td>\n",
       "            <td>3</td>\n",
       "        </tr>\n",
       "        <tr>\n",
       "            <td>Karkki Oy</td>\n",
       "            <td>3</td>\n",
       "        </tr>\n",
       "        <tr>\n",
       "            <td>G&#x27;day, Mate</td>\n",
       "            <td>3</td>\n",
       "        </tr>\n",
       "        <tr>\n",
       "            <td>Cooperativa de Quesos &#x27;Las Cabras&#x27;</td>\n",
       "            <td>2</td>\n",
       "        </tr>\n",
       "        <tr>\n",
       "            <td>PB Knäckebröd AB</td>\n",
       "            <td>2</td>\n",
       "        </tr>\n",
       "        <tr>\n",
       "            <td>Aux joyeux ecclésiastiques</td>\n",
       "            <td>2</td>\n",
       "        </tr>\n",
       "        <tr>\n",
       "            <td>New England Seafood Cannery</td>\n",
       "            <td>2</td>\n",
       "        </tr>\n",
       "        <tr>\n",
       "            <td>Lyngbysild</td>\n",
       "            <td>2</td>\n",
       "        </tr>\n",
       "        <tr>\n",
       "            <td>Zaanse Snoepfabriek</td>\n",
       "            <td>2</td>\n",
       "        </tr>\n",
       "        <tr>\n",
       "            <td>Ma Maison</td>\n",
       "            <td>2</td>\n",
       "        </tr>\n",
       "        <tr>\n",
       "            <td>Pasta Buttini s.r.l.</td>\n",
       "            <td>2</td>\n",
       "        </tr>\n",
       "        <tr>\n",
       "            <td>Gai pâturage</td>\n",
       "            <td>2</td>\n",
       "        </tr>\n",
       "        <tr>\n",
       "            <td>Forêts d&#x27;érables</td>\n",
       "            <td>2</td>\n",
       "        </tr>\n",
       "        <tr>\n",
       "            <td>Refrescos Americanas LTDA</td>\n",
       "            <td>1</td>\n",
       "        </tr>\n",
       "        <tr>\n",
       "            <td>Nord-Ost-Fisch Handelsgesellschaft mbH</td>\n",
       "            <td>1</td>\n",
       "        </tr>\n",
       "        <tr>\n",
       "            <td>Escargots Nouveaux</td>\n",
       "            <td>1</td>\n",
       "        </tr>\n",
       "    </tbody>\n",
       "</table>"
      ],
      "text/plain": [
       "[('Pavlova, Ltd.', 5),\n",
       " ('Plutzer Lebensmittelgroßmärkte AG', 5),\n",
       " ('New Orleans Cajun Delights', 4),\n",
       " ('Specialty Biscuits, Ltd.', 4),\n",
       " ('Exotic Liquids', 3),\n",
       " (\"Grandma Kelly's Homestead\", 3),\n",
       " ('Tokyo Traders', 3),\n",
       " (\"Mayumi's\", 3),\n",
       " ('Heli Süßwaren GmbH & Co. KG', 3),\n",
       " ('Formaggi Fortini s.r.l.', 3),\n",
       " ('Norske Meierier', 3),\n",
       " ('Bigfoot Breweries', 3),\n",
       " ('Svensk Sjöföda AB', 3),\n",
       " ('Leka Trading', 3),\n",
       " ('Karkki Oy', 3),\n",
       " (\"G'day, Mate\", 3),\n",
       " (\"Cooperativa de Quesos 'Las Cabras'\", 2),\n",
       " ('PB Knäckebröd AB', 2),\n",
       " ('Aux joyeux ecclésiastiques', 2),\n",
       " ('New England Seafood Cannery', 2),\n",
       " ('Lyngbysild', 2),\n",
       " ('Zaanse Snoepfabriek', 2),\n",
       " ('Ma Maison', 2),\n",
       " ('Pasta Buttini s.r.l.', 2),\n",
       " ('Gai pâturage', 2),\n",
       " (\"Forêts d'érables\", 2),\n",
       " ('Refrescos Americanas LTDA', 1),\n",
       " ('Nord-Ost-Fisch Handelsgesellschaft mbH', 1),\n",
       " ('Escargots Nouveaux', 1)]"
      ]
     },
     "execution_count": 35,
     "metadata": {},
     "output_type": "execute_result"
    }
   ],
   "source": [
    "%%sql\n",
    "SELECT \n",
    "    s.CompanyName AS Proveedor,\n",
    "    COUNT(DISTINCT p.ProductID) AS ProductosVendidos\n",
    "FROM Suppliers s\n",
    "JOIN Products p ON s.SupplierID = p.SupplierID\n",
    "JOIN \"Order Details\" od ON p.ProductID = od.ProductID\n",
    "GROUP BY s.SupplierID, s.CompanyName\n",
    "ORDER BY ProductosVendidos DESC;\n"
   ]
  },
  {
   "cell_type": "markdown",
   "metadata": {},
   "source": [
    "8. Clientes por país con total de órdenes y unidades compradas"
   ]
  },
  {
   "cell_type": "code",
   "execution_count": 38,
   "metadata": {},
   "outputs": [
    {
     "name": "stdout",
     "output_type": "stream",
     "text": [
      " * sqlite:///northwind.db\n",
      "Done.\n"
     ]
    },
    {
     "data": {
      "text/html": [
       "<table>\n",
       "    <thead>\n",
       "        <tr>\n",
       "            <th>Country</th>\n",
       "            <th>TotalOrdenes</th>\n",
       "            <th>TotalUnidades</th>\n",
       "        </tr>\n",
       "    </thead>\n",
       "    <tbody>\n",
       "        <tr>\n",
       "            <td>USA</td>\n",
       "            <td>2280</td>\n",
       "            <td>2175993</td>\n",
       "        </tr>\n",
       "        <tr>\n",
       "            <td>France</td>\n",
       "            <td>1909</td>\n",
       "            <td>1845501</td>\n",
       "        </tr>\n",
       "        <tr>\n",
       "            <td>Germany</td>\n",
       "            <td>1895</td>\n",
       "            <td>1774812</td>\n",
       "        </tr>\n",
       "        <tr>\n",
       "            <td>Brazil</td>\n",
       "            <td>1659</td>\n",
       "            <td>1591279</td>\n",
       "        </tr>\n",
       "        <tr>\n",
       "            <td>UK</td>\n",
       "            <td>1234</td>\n",
       "            <td>1170811</td>\n",
       "        </tr>\n",
       "        <tr>\n",
       "            <td>Mexico</td>\n",
       "            <td>898</td>\n",
       "            <td>861516</td>\n",
       "        </tr>\n",
       "        <tr>\n",
       "            <td>Spain</td>\n",
       "            <td>849</td>\n",
       "            <td>830094</td>\n",
       "        </tr>\n",
       "        <tr>\n",
       "            <td>Venezuela</td>\n",
       "            <td>726</td>\n",
       "            <td>668721</td>\n",
       "        </tr>\n",
       "        <tr>\n",
       "            <td>Canada</td>\n",
       "            <td>520</td>\n",
       "            <td>495139</td>\n",
       "        </tr>\n",
       "        <tr>\n",
       "            <td>Argentina</td>\n",
       "            <td>516</td>\n",
       "            <td>489067</td>\n",
       "        </tr>\n",
       "        <tr>\n",
       "            <td>Italy</td>\n",
       "            <td>519</td>\n",
       "            <td>486350</td>\n",
       "        </tr>\n",
       "        <tr>\n",
       "            <td>Austria</td>\n",
       "            <td>364</td>\n",
       "            <td>341820</td>\n",
       "        </tr>\n",
       "        <tr>\n",
       "            <td>Switzerland</td>\n",
       "            <td>358</td>\n",
       "            <td>341035</td>\n",
       "        </tr>\n",
       "        <tr>\n",
       "            <td>None</td>\n",
       "            <td>335</td>\n",
       "            <td>340555</td>\n",
       "        </tr>\n",
       "        <tr>\n",
       "            <td>Denmark</td>\n",
       "            <td>332</td>\n",
       "            <td>337997</td>\n",
       "        </tr>\n",
       "        <tr>\n",
       "            <td>Portugal</td>\n",
       "            <td>355</td>\n",
       "            <td>332338</td>\n",
       "        </tr>\n",
       "        <tr>\n",
       "            <td>Sweden</td>\n",
       "            <td>353</td>\n",
       "            <td>322734</td>\n",
       "        </tr>\n",
       "        <tr>\n",
       "            <td>Belgium</td>\n",
       "            <td>331</td>\n",
       "            <td>321024</td>\n",
       "        </tr>\n",
       "        <tr>\n",
       "            <td>Finland</td>\n",
       "            <td>331</td>\n",
       "            <td>318137</td>\n",
       "        </tr>\n",
       "        <tr>\n",
       "            <td>Poland</td>\n",
       "            <td>177</td>\n",
       "            <td>165028</td>\n",
       "        </tr>\n",
       "        <tr>\n",
       "            <td>Ireland</td>\n",
       "            <td>182</td>\n",
       "            <td>164738</td>\n",
       "        </tr>\n",
       "        <tr>\n",
       "            <td>Norway</td>\n",
       "            <td>159</td>\n",
       "            <td>163913</td>\n",
       "        </tr>\n",
       "    </tbody>\n",
       "</table>"
      ],
      "text/plain": [
       "[('USA', 2280, 2175993),\n",
       " ('France', 1909, 1845501),\n",
       " ('Germany', 1895, 1774812),\n",
       " ('Brazil', 1659, 1591279),\n",
       " ('UK', 1234, 1170811),\n",
       " ('Mexico', 898, 861516),\n",
       " ('Spain', 849, 830094),\n",
       " ('Venezuela', 726, 668721),\n",
       " ('Canada', 520, 495139),\n",
       " ('Argentina', 516, 489067),\n",
       " ('Italy', 519, 486350),\n",
       " ('Austria', 364, 341820),\n",
       " ('Switzerland', 358, 341035),\n",
       " (None, 335, 340555),\n",
       " ('Denmark', 332, 337997),\n",
       " ('Portugal', 355, 332338),\n",
       " ('Sweden', 353, 322734),\n",
       " ('Belgium', 331, 321024),\n",
       " ('Finland', 331, 318137),\n",
       " ('Poland', 177, 165028),\n",
       " ('Ireland', 182, 164738),\n",
       " ('Norway', 159, 163913)]"
      ]
     },
     "execution_count": 38,
     "metadata": {},
     "output_type": "execute_result"
    }
   ],
   "source": [
    "%%sql\n",
    "SELECT \n",
    "    c.Country,\n",
    "    COUNT(DISTINCT o.OrderID) AS TotalOrdenes,\n",
    "    SUM(od.Quantity) AS TotalUnidades\n",
    "FROM Customers c\n",
    "JOIN Orders o ON c.CustomerID = o.CustomerID\n",
    "JOIN \"Order Details\" od ON o.OrderID = od.OrderID\n",
    "GROUP BY c.Country\n",
    "ORDER BY TotalUnidades DESC;"
   ]
  },
  {
   "cell_type": "markdown",
   "metadata": {},
   "source": [
    "9. Promedio de productos por orden, por empleado"
   ]
  },
  {
   "cell_type": "code",
   "execution_count": 40,
   "metadata": {},
   "outputs": [
    {
     "name": "stdout",
     "output_type": "stream",
     "text": [
      " * sqlite:///northwind.db\n",
      "Done.\n"
     ]
    },
    {
     "data": {
      "text/html": [
       "<table>\n",
       "    <thead>\n",
       "        <tr>\n",
       "            <th>Empleado</th>\n",
       "            <th>TotalOrdenes</th>\n",
       "            <th>TotalProductos</th>\n",
       "            <th>PromedioPorOrden</th>\n",
       "        </tr>\n",
       "    </thead>\n",
       "    <tbody>\n",
       "        <tr>\n",
       "            <td>Steven Buchanan</td>\n",
       "            <td>1804</td>\n",
       "            <td>1774436</td>\n",
       "            <td>983.61</td>\n",
       "        </tr>\n",
       "        <tr>\n",
       "            <td>Michael Suyama</td>\n",
       "            <td>1754</td>\n",
       "            <td>1694483</td>\n",
       "            <td>966.07</td>\n",
       "        </tr>\n",
       "        <tr>\n",
       "            <td>Robert King</td>\n",
       "            <td>1789</td>\n",
       "            <td>1719478</td>\n",
       "            <td>961.14</td>\n",
       "        </tr>\n",
       "        <tr>\n",
       "            <td>Anne Dodsworth</td>\n",
       "            <td>1766</td>\n",
       "            <td>1694072</td>\n",
       "            <td>959.27</td>\n",
       "        </tr>\n",
       "        <tr>\n",
       "            <td>Laura Callahan</td>\n",
       "            <td>1798</td>\n",
       "            <td>1718574</td>\n",
       "            <td>955.83</td>\n",
       "        </tr>\n",
       "        <tr>\n",
       "            <td>Andrew Fuller</td>\n",
       "            <td>1771</td>\n",
       "            <td>1688107</td>\n",
       "            <td>953.19</td>\n",
       "        </tr>\n",
       "        <tr>\n",
       "            <td>Janet Leverling</td>\n",
       "            <td>1846</td>\n",
       "            <td>1737784</td>\n",
       "            <td>941.38</td>\n",
       "        </tr>\n",
       "        <tr>\n",
       "            <td>Nancy Davolio</td>\n",
       "            <td>1846</td>\n",
       "            <td>1728186</td>\n",
       "            <td>936.18</td>\n",
       "        </tr>\n",
       "        <tr>\n",
       "            <td>Margaret Peacock</td>\n",
       "            <td>1908</td>\n",
       "            <td>1783482</td>\n",
       "            <td>934.74</td>\n",
       "        </tr>\n",
       "    </tbody>\n",
       "</table>"
      ],
      "text/plain": [
       "[('Steven Buchanan', 1804, 1774436, 983.61),\n",
       " ('Michael Suyama', 1754, 1694483, 966.07),\n",
       " ('Robert King', 1789, 1719478, 961.14),\n",
       " ('Anne Dodsworth', 1766, 1694072, 959.27),\n",
       " ('Laura Callahan', 1798, 1718574, 955.83),\n",
       " ('Andrew Fuller', 1771, 1688107, 953.19),\n",
       " ('Janet Leverling', 1846, 1737784, 941.38),\n",
       " ('Nancy Davolio', 1846, 1728186, 936.18),\n",
       " ('Margaret Peacock', 1908, 1783482, 934.74)]"
      ]
     },
     "execution_count": 40,
     "metadata": {},
     "output_type": "execute_result"
    }
   ],
   "source": [
    "%%sql\n",
    "SELECT \n",
    "    e.FirstName || ' ' || e.LastName AS Empleado,\n",
    "    COUNT(DISTINCT o.OrderID) AS TotalOrdenes,\n",
    "    SUM(od.Quantity) AS TotalProductos,\n",
    "    ROUND(1.0 * SUM(od.Quantity) / COUNT(DISTINCT o.OrderID), 2) AS PromedioPorOrden\n",
    "FROM Employees e\n",
    "JOIN Orders o ON e.EmployeeID = o.EmployeeID\n",
    "JOIN \"Order Details\" od ON o.OrderID = od.OrderID\n",
    "GROUP BY e.EmployeeID, Empleado\n",
    "ORDER BY PromedioPorOrden DESC;"
   ]
  },
  {
   "cell_type": "markdown",
   "metadata": {},
   "source": [
    "10. Mostrar los productos vendidos (distintos) por categoría"
   ]
  },
  {
   "cell_type": "code",
   "execution_count": 42,
   "metadata": {},
   "outputs": [
    {
     "name": "stdout",
     "output_type": "stream",
     "text": [
      " * sqlite:///northwind.db\n",
      "Done.\n"
     ]
    },
    {
     "data": {
      "text/html": [
       "<table>\n",
       "    <thead>\n",
       "        <tr>\n",
       "            <th>CategoryName</th>\n",
       "            <th>ProductosVendidos</th>\n",
       "        </tr>\n",
       "    </thead>\n",
       "    <tbody>\n",
       "        <tr>\n",
       "            <td>Confections</td>\n",
       "            <td>13</td>\n",
       "        </tr>\n",
       "        <tr>\n",
       "            <td>Beverages</td>\n",
       "            <td>12</td>\n",
       "        </tr>\n",
       "        <tr>\n",
       "            <td>Condiments</td>\n",
       "            <td>12</td>\n",
       "        </tr>\n",
       "        <tr>\n",
       "            <td>Seafood</td>\n",
       "            <td>12</td>\n",
       "        </tr>\n",
       "        <tr>\n",
       "            <td>Dairy Products</td>\n",
       "            <td>10</td>\n",
       "        </tr>\n",
       "        <tr>\n",
       "            <td>Grains/Cereals</td>\n",
       "            <td>7</td>\n",
       "        </tr>\n",
       "        <tr>\n",
       "            <td>Meat/Poultry</td>\n",
       "            <td>6</td>\n",
       "        </tr>\n",
       "        <tr>\n",
       "            <td>Produce</td>\n",
       "            <td>5</td>\n",
       "        </tr>\n",
       "    </tbody>\n",
       "</table>"
      ],
      "text/plain": [
       "[('Confections', 13),\n",
       " ('Beverages', 12),\n",
       " ('Condiments', 12),\n",
       " ('Seafood', 12),\n",
       " ('Dairy Products', 10),\n",
       " ('Grains/Cereals', 7),\n",
       " ('Meat/Poultry', 6),\n",
       " ('Produce', 5)]"
      ]
     },
     "execution_count": 42,
     "metadata": {},
     "output_type": "execute_result"
    }
   ],
   "source": [
    "%%sql\n",
    "SELECT \n",
    "    c.CategoryName,\n",
    "    COUNT(DISTINCT p.ProductID) AS ProductosVendidos\n",
    "FROM Categories c\n",
    "JOIN Products p ON c.CategoryID = p.CategoryID\n",
    "JOIN \"Order Details\" od ON p.ProductID = od.ProductID\n",
    "GROUP BY c.CategoryID, c.CategoryName\n",
    "ORDER BY ProductosVendidos DESC;"
   ]
  }
 ],
 "metadata": {
  "kernelspec": {
   "display_name": "env",
   "language": "python",
   "name": "python3"
  },
  "language_info": {
   "codemirror_mode": {
    "name": "ipython",
    "version": 3
   },
   "file_extension": ".py",
   "mimetype": "text/x-python",
   "name": "python",
   "nbconvert_exporter": "python",
   "pygments_lexer": "ipython3",
   "version": "3.13.3"
  }
 },
 "nbformat": 4,
 "nbformat_minor": 2
}
