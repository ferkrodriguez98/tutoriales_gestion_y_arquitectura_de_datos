{
 "cells": [
  {
   "cell_type": "markdown",
   "metadata": {
    "vscode": {
     "languageId": "raw"
    }
   },
   "source": [
    "# Práctica SQL - Parte 2: Conceptos Avanzados con Northwind\n",
    "\n",
    "En esta práctica vamos a trabajar con conceptos más avanzados de SQL usando la misma base de datos Northwind. Veremos:\n",
    "\n",
    "- HAVING\n",
    "- Subconsultas\n",
    "- Funciones de Ventana (RANK, PARTITION BY, ROW_NUMBER)\n",
    "- LAG y LEAD\n",
    "- Common Table Expressions (CTE)\n",
    "\n",
    "## Esquema de la Base de Datos\n",
    "\n",
    "![Esquema Northwind](https://miro.medium.com/v2/resize:fit:944/1*Qn-ac6Va4Oa0vLsH1suSaw.png)\n",
    "\n",
    "Primero, instalemos las librerías necesarias:\n"
   ]
  },
  {
   "cell_type": "code",
   "execution_count": 1,
   "metadata": {},
   "outputs": [
    {
     "name": "stdout",
     "output_type": "stream",
     "text": [
      "\n",
      "\u001b[1m[\u001b[0m\u001b[34;49mnotice\u001b[0m\u001b[1;39;49m]\u001b[0m\u001b[39;49m A new release of pip is available: \u001b[0m\u001b[31;49m25.0.1\u001b[0m\u001b[39;49m -> \u001b[0m\u001b[32;49m25.1.1\u001b[0m\n",
      "\u001b[1m[\u001b[0m\u001b[34;49mnotice\u001b[0m\u001b[1;39;49m]\u001b[0m\u001b[39;49m To update, run: \u001b[0m\u001b[32;49mpip install --upgrade pip\u001b[0m\n"
     ]
    }
   ],
   "source": [
    "!pip install ipython-sql==0.3.9 prettytable==3.5.0 sqlalchemy==1.4.46 --quiet"
   ]
  },
  {
   "cell_type": "code",
   "execution_count": 2,
   "metadata": {},
   "outputs": [
    {
     "data": {
      "text/plain": [
       "'Connected: @northwind.db'"
      ]
     },
     "execution_count": 2,
     "metadata": {},
     "output_type": "execute_result"
    }
   ],
   "source": [
    "%load_ext sql\n",
    "%sql sqlite:///northwind.db"
   ]
  },
  {
   "cell_type": "markdown",
   "metadata": {
    "vscode": {
     "languageId": "raw"
    }
   },
   "source": [
    "# Ejemplos de Conceptos Avanzados\n",
    "\n",
    "## 1. HAVING\n",
    "HAVING nos permite filtrar grupos después de agrupar, a diferencia de WHERE que filtra filas individuales antes de agrupar.\n",
    "\n",
    "Veamos un ejemplo: Encontrar las categorías que tienen más de 10 productos con un precio unitario mayor a $10:\n"
   ]
  },
  {
   "cell_type": "code",
   "execution_count": 7,
   "metadata": {},
   "outputs": [
    {
     "name": "stdout",
     "output_type": "stream",
     "text": [
      " * sqlite:///northwind.db\n",
      "Done.\n"
     ]
    },
    {
     "data": {
      "text/html": [
       "<table>\n",
       "    <thead>\n",
       "        <tr>\n",
       "            <th>CategoryName</th>\n",
       "            <th>CantidadProductos</th>\n",
       "            <th>PrecioPromedio</th>\n",
       "        </tr>\n",
       "    </thead>\n",
       "    <tbody>\n",
       "        <tr>\n",
       "            <td>Condiments</td>\n",
       "            <td>11</td>\n",
       "            <td>24.25</td>\n",
       "        </tr>\n",
       "    </tbody>\n",
       "</table>"
      ],
      "text/plain": [
       "[('Condiments', 11, 24.25)]"
      ]
     },
     "execution_count": 7,
     "metadata": {},
     "output_type": "execute_result"
    }
   ],
   "source": [
    "%%sql\n",
    "SELECT \n",
    "    c.CategoryName,\n",
    "    COUNT(*) as CantidadProductos,\n",
    "    AVG(p.UnitPrice) as PrecioPromedio\n",
    "FROM Categories c\n",
    "JOIN Products p ON c.CategoryID = p.CategoryID\n",
    "WHERE p.UnitPrice > 10\n",
    "GROUP BY c.CategoryID, c.CategoryName\n",
    "HAVING COUNT(*) > 10;\n"
   ]
  },
  {
   "cell_type": "markdown",
   "metadata": {
    "vscode": {
     "languageId": "raw"
    }
   },
   "source": [
    "## 2. Subconsultas\n",
    "Las subconsultas son consultas anidadas dentro de otras consultas. Pueden usarse en diferentes partes de la consulta principal.\n",
    "\n",
    "### 2.1 Subconsulta en WHERE\n",
    "Encontremos los productos cuyo precio es mayor al promedio:\n"
   ]
  },
  {
   "cell_type": "code",
   "execution_count": 10,
   "metadata": {},
   "outputs": [
    {
     "name": "stdout",
     "output_type": "stream",
     "text": [
      " * sqlite:///northwind.db\n",
      "Done.\n"
     ]
    },
    {
     "data": {
      "text/html": [
       "<table>\n",
       "    <thead>\n",
       "        <tr>\n",
       "            <th>ProductName</th>\n",
       "            <th>UnitPrice</th>\n",
       "        </tr>\n",
       "    </thead>\n",
       "    <tbody>\n",
       "        <tr>\n",
       "            <td>Côte de Blaye</td>\n",
       "            <td>263.5</td>\n",
       "        </tr>\n",
       "        <tr>\n",
       "            <td>Thüringer Rostbratwurst</td>\n",
       "            <td>123.79</td>\n",
       "        </tr>\n",
       "        <tr>\n",
       "            <td>Mishi Kobe Niku</td>\n",
       "            <td>97</td>\n",
       "        </tr>\n",
       "        <tr>\n",
       "            <td>Sir Rodney&#x27;s Marmalade</td>\n",
       "            <td>81</td>\n",
       "        </tr>\n",
       "        <tr>\n",
       "            <td>Carnarvon Tigers</td>\n",
       "            <td>62.5</td>\n",
       "        </tr>\n",
       "    </tbody>\n",
       "</table>"
      ],
      "text/plain": [
       "[('Côte de Blaye', 263.5),\n",
       " ('Thüringer Rostbratwurst', 123.79),\n",
       " ('Mishi Kobe Niku', 97),\n",
       " (\"Sir Rodney's Marmalade\", 81),\n",
       " ('Carnarvon Tigers', 62.5)]"
      ]
     },
     "execution_count": 10,
     "metadata": {},
     "output_type": "execute_result"
    }
   ],
   "source": [
    "%%sql\n",
    "SELECT ProductName, UnitPrice\n",
    "FROM Products\n",
    "WHERE UnitPrice > (\n",
    "    SELECT AVG(UnitPrice)\n",
    "    FROM Products\n",
    ")\n",
    "ORDER BY UnitPrice DESC\n",
    "LIMIT 5;\n"
   ]
  },
  {
   "cell_type": "markdown",
   "metadata": {
    "vscode": {
     "languageId": "raw"
    }
   },
   "source": [
    "### 2.2 Subconsulta en FROM\n",
    "Podemos usar una subconsulta como si fuera una tabla. Veamos el total de ventas por categoría desde el 2023 hasta ahora:\n"
   ]
  },
  {
   "cell_type": "code",
   "execution_count": 11,
   "metadata": {},
   "outputs": [
    {
     "name": "stdout",
     "output_type": "stream",
     "text": [
      " * sqlite:///northwind.db\n",
      "Done.\n"
     ]
    },
    {
     "data": {
      "text/html": [
       "<table>\n",
       "    <thead>\n",
       "        <tr>\n",
       "            <th>CategoryName</th>\n",
       "            <th>TotalVentas</th>\n",
       "        </tr>\n",
       "    </thead>\n",
       "    <tbody>\n",
       "        <tr>\n",
       "            <td>Beverages</td>\n",
       "            <td>6758278.5</td>\n",
       "        </tr>\n",
       "        <tr>\n",
       "            <td>Confections</td>\n",
       "            <td>4923889.9799999995</td>\n",
       "        </tr>\n",
       "        <tr>\n",
       "            <td>Meat/Poultry</td>\n",
       "            <td>4740726.67</td>\n",
       "        </tr>\n",
       "        <tr>\n",
       "            <td>Dairy Products</td>\n",
       "            <td>4221091.9</td>\n",
       "        </tr>\n",
       "        <tr>\n",
       "            <td>Condiments</td>\n",
       "            <td>4160110.85</td>\n",
       "        </tr>\n",
       "        <tr>\n",
       "            <td>Seafood</td>\n",
       "            <td>3744024.4</td>\n",
       "        </tr>\n",
       "        <tr>\n",
       "            <td>Produce</td>\n",
       "            <td>2403984.95</td>\n",
       "        </tr>\n",
       "        <tr>\n",
       "            <td>Grains/Cereals</td>\n",
       "            <td>2102382.75</td>\n",
       "        </tr>\n",
       "    </tbody>\n",
       "</table>"
      ],
      "text/plain": [
       "[('Beverages', 6758278.5),\n",
       " ('Confections', 4923889.9799999995),\n",
       " ('Meat/Poultry', 4740726.67),\n",
       " ('Dairy Products', 4221091.9),\n",
       " ('Condiments', 4160110.85),\n",
       " ('Seafood', 3744024.4),\n",
       " ('Produce', 2403984.95),\n",
       " ('Grains/Cereals', 2102382.75)]"
      ]
     },
     "execution_count": 11,
     "metadata": {},
     "output_type": "execute_result"
    }
   ],
   "source": [
    "%%sql\n",
    "SELECT \n",
    "    ventas_categoria.CategoryName,\n",
    "    ventas_categoria.TotalVentas\n",
    "FROM (\n",
    "    SELECT \n",
    "        c.CategoryName,\n",
    "        SUM(od.Quantity * od.UnitPrice) as TotalVentas\n",
    "    FROM Categories c\n",
    "    JOIN Products p ON c.CategoryID = p.CategoryID\n",
    "    JOIN \"Order Details\" od ON p.ProductID = od.ProductID\n",
    "    JOIN Orders o ON od.OrderID = o.OrderID\n",
    "    WHERE o.OrderDate >= '2023-01-01'\n",
    "    GROUP BY c.CategoryID, c.CategoryName\n",
    ") as ventas_categoria\n",
    "ORDER BY ventas_categoria.TotalVentas DESC;\n"
   ]
  },
  {
   "cell_type": "markdown",
   "metadata": {
    "vscode": {
     "languageId": "raw"
    }
   },
   "source": [
    "## 3. Funciones de Ventana\n",
    "Las funciones de ventana nos permiten realizar cálculos a través de un conjunto de filas relacionadas con la fila actual.\n",
    "\n",
    "### 3.1 RANK()\n",
    "Veamos el ranking de empleados por total de ventas:\n"
   ]
  },
  {
   "cell_type": "code",
   "execution_count": 12,
   "metadata": {},
   "outputs": [
    {
     "name": "stdout",
     "output_type": "stream",
     "text": [
      " * sqlite:///northwind.db\n",
      "Done.\n"
     ]
    },
    {
     "data": {
      "text/html": [
       "<table>\n",
       "    <thead>\n",
       "        <tr>\n",
       "            <th>Empleado</th>\n",
       "            <th>TotalVentas</th>\n",
       "            <th>Ranking</th>\n",
       "        </tr>\n",
       "    </thead>\n",
       "    <tbody>\n",
       "        <tr>\n",
       "            <td>Margaret Peacock</td>\n",
       "            <td>51505691.8</td>\n",
       "            <td>1</td>\n",
       "        </tr>\n",
       "        <tr>\n",
       "            <td>Steven Buchanan</td>\n",
       "            <td>51393234.57</td>\n",
       "            <td>2</td>\n",
       "        </tr>\n",
       "        <tr>\n",
       "            <td>Janet Leverling</td>\n",
       "            <td>50455812.22</td>\n",
       "            <td>3</td>\n",
       "        </tr>\n",
       "        <tr>\n",
       "            <td>Nancy Davolio</td>\n",
       "            <td>49669459.34</td>\n",
       "            <td>4</td>\n",
       "        </tr>\n",
       "        <tr>\n",
       "            <td>Robert King</td>\n",
       "            <td>49668627.06</td>\n",
       "            <td>5</td>\n",
       "        </tr>\n",
       "        <tr>\n",
       "            <td>Laura Callahan</td>\n",
       "            <td>49287575.56</td>\n",
       "            <td>6</td>\n",
       "        </tr>\n",
       "        <tr>\n",
       "            <td>Michael Suyama</td>\n",
       "            <td>49144251.53</td>\n",
       "            <td>7</td>\n",
       "        </tr>\n",
       "        <tr>\n",
       "            <td>Anne Dodsworth</td>\n",
       "            <td>49025334.37</td>\n",
       "            <td>8</td>\n",
       "        </tr>\n",
       "        <tr>\n",
       "            <td>Andrew Fuller</td>\n",
       "            <td>48325312.27</td>\n",
       "            <td>9</td>\n",
       "        </tr>\n",
       "    </tbody>\n",
       "</table>"
      ],
      "text/plain": [
       "[('Margaret Peacock', 51505691.8, 1),\n",
       " ('Steven Buchanan', 51393234.57, 2),\n",
       " ('Janet Leverling', 50455812.22, 3),\n",
       " ('Nancy Davolio', 49669459.34, 4),\n",
       " ('Robert King', 49668627.06, 5),\n",
       " ('Laura Callahan', 49287575.56, 6),\n",
       " ('Michael Suyama', 49144251.53, 7),\n",
       " ('Anne Dodsworth', 49025334.37, 8),\n",
       " ('Andrew Fuller', 48325312.27, 9)]"
      ]
     },
     "execution_count": 12,
     "metadata": {},
     "output_type": "execute_result"
    }
   ],
   "source": [
    "%%sql\n",
    "SELECT \n",
    "    e.FirstName || ' ' || e.LastName as Empleado,\n",
    "    ROUND(SUM(od.Quantity * od.UnitPrice), 2) as TotalVentas,\n",
    "    RANK() OVER (ORDER BY SUM(od.Quantity * od.UnitPrice) DESC) as Ranking\n",
    "FROM Employees e\n",
    "JOIN Orders o ON e.EmployeeID = o.EmployeeID\n",
    "JOIN \"Order Details\" od ON o.OrderID = od.OrderID\n",
    "GROUP BY e.EmployeeID, e.FirstName, e.LastName;\n"
   ]
  },
  {
   "cell_type": "markdown",
   "metadata": {
    "vscode": {
     "languageId": "raw"
    }
   },
   "source": [
    "### 3.2 PARTITION BY\n",
    "PARTITION BY nos permite dividir los datos en grupos y aplicar funciones de ventana a cada grupo por separado.\n",
    "\n",
    "Veamos el ranking de productos por ventas dentro de cada categoría:\n"
   ]
  },
  {
   "cell_type": "code",
   "execution_count": null,
   "metadata": {},
   "outputs": [
    {
     "name": "stdout",
     "output_type": "stream",
     "text": [
      " * sqlite:///northwind.db\n",
      "Done.\n"
     ]
    },
    {
     "data": {
      "text/html": [
       "<table>\n",
       "    <thead>\n",
       "        <tr>\n",
       "            <th>CategoryName</th>\n",
       "            <th>ProductName</th>\n",
       "            <th>TotalVentas</th>\n",
       "            <th>RankingEnCategoria</th>\n",
       "        </tr>\n",
       "    </thead>\n",
       "    <tbody>\n",
       "        <tr>\n",
       "            <td>Beverages</td>\n",
       "            <td>Côte de Blaye</td>\n",
       "            <td>53274482.7</td>\n",
       "            <td>1</td>\n",
       "        </tr>\n",
       "        <tr>\n",
       "            <td>Beverages</td>\n",
       "            <td>Ipoh Coffee</td>\n",
       "            <td>9334927.2</td>\n",
       "            <td>2</td>\n",
       "        </tr>\n",
       "        <tr>\n",
       "            <td>Beverages</td>\n",
       "            <td>Chang</td>\n",
       "            <td>3832714.2</td>\n",
       "            <td>3</td>\n",
       "        </tr>\n",
       "        <tr>\n",
       "            <td>Condiments</td>\n",
       "            <td>Vegie-spread</td>\n",
       "            <td>8811700.4</td>\n",
       "            <td>1</td>\n",
       "        </tr>\n",
       "        <tr>\n",
       "            <td>Condiments</td>\n",
       "            <td>Northwoods Cranberry Sauce</td>\n",
       "            <td>8074640.0</td>\n",
       "            <td>2</td>\n",
       "        </tr>\n",
       "        <tr>\n",
       "            <td>Condiments</td>\n",
       "            <td>Sirop d&#x27;érable</td>\n",
       "            <td>5841895.8</td>\n",
       "            <td>3</td>\n",
       "        </tr>\n",
       "        <tr>\n",
       "            <td>Confections</td>\n",
       "            <td>Sir Rodney&#x27;s Marmalade</td>\n",
       "            <td>16654879.8</td>\n",
       "            <td>1</td>\n",
       "        </tr>\n",
       "        <tr>\n",
       "            <td>Confections</td>\n",
       "            <td>Tarte au sucre</td>\n",
       "            <td>9955529.0</td>\n",
       "            <td>2</td>\n",
       "        </tr>\n",
       "        <tr>\n",
       "            <td>Confections</td>\n",
       "            <td>Schoggi Schokolade</td>\n",
       "            <td>8829210.1</td>\n",
       "            <td>3</td>\n",
       "        </tr>\n",
       "        <tr>\n",
       "            <td>Dairy Products</td>\n",
       "            <td>Raclette Courdavault</td>\n",
       "            <td>11221551.0</td>\n",
       "            <td>1</td>\n",
       "        </tr>\n",
       "        <tr>\n",
       "            <td>Dairy Products</td>\n",
       "            <td>Queso Manchego La Pastora</td>\n",
       "            <td>7684990.8</td>\n",
       "            <td>2</td>\n",
       "        </tr>\n",
       "        <tr>\n",
       "            <td>Dairy Products</td>\n",
       "            <td>Gudbrandsdalsost</td>\n",
       "            <td>7232947.2</td>\n",
       "            <td>3</td>\n",
       "        </tr>\n",
       "        <tr>\n",
       "            <td>Grains/Cereals</td>\n",
       "            <td>Gnocchi di nonna Alice</td>\n",
       "            <td>7649415.2</td>\n",
       "            <td>1</td>\n",
       "        </tr>\n",
       "        <tr>\n",
       "            <td>Grains/Cereals</td>\n",
       "            <td>Wimmers gute Semmelknödel</td>\n",
       "            <td>6689800.25</td>\n",
       "            <td>2</td>\n",
       "        </tr>\n",
       "        <tr>\n",
       "            <td>Grains/Cereals</td>\n",
       "            <td>Gustaf&#x27;s Knäckebröd</td>\n",
       "            <td>4204838.4</td>\n",
       "            <td>3</td>\n",
       "        </tr>\n",
       "        <tr>\n",
       "            <td>Meat/Poultry</td>\n",
       "            <td>Thüringer Rostbratwurst</td>\n",
       "            <td>24630836.96</td>\n",
       "            <td>1</td>\n",
       "        </tr>\n",
       "        <tr>\n",
       "            <td>Meat/Poultry</td>\n",
       "            <td>Mishi Kobe Niku</td>\n",
       "            <td>19424638.0</td>\n",
       "            <td>2</td>\n",
       "        </tr>\n",
       "        <tr>\n",
       "            <td>Meat/Poultry</td>\n",
       "            <td>Alice Mutton</td>\n",
       "            <td>7887196.2</td>\n",
       "            <td>3</td>\n",
       "        </tr>\n",
       "        <tr>\n",
       "            <td>Produce</td>\n",
       "            <td>Manjimup Dried Apples</td>\n",
       "            <td>10667691.6</td>\n",
       "            <td>1</td>\n",
       "        </tr>\n",
       "        <tr>\n",
       "            <td>Produce</td>\n",
       "            <td>Rössle Sauerkraut</td>\n",
       "            <td>9253934.4</td>\n",
       "            <td>2</td>\n",
       "        </tr>\n",
       "        <tr>\n",
       "            <td>Produce</td>\n",
       "            <td>Uncle Bob&#x27;s Organic Dried Pears</td>\n",
       "            <td>6118674.0</td>\n",
       "            <td>3</td>\n",
       "        </tr>\n",
       "        <tr>\n",
       "            <td>Seafood</td>\n",
       "            <td>Carnarvon Tigers</td>\n",
       "            <td>12607487.5</td>\n",
       "            <td>1</td>\n",
       "        </tr>\n",
       "        <tr>\n",
       "            <td>Seafood</td>\n",
       "            <td>Ikura</td>\n",
       "            <td>6239996.2</td>\n",
       "            <td>2</td>\n",
       "        </tr>\n",
       "        <tr>\n",
       "            <td>Seafood</td>\n",
       "            <td>Nord-Ost Matjeshering</td>\n",
       "            <td>5262730.32</td>\n",
       "            <td>3</td>\n",
       "        </tr>\n",
       "    </tbody>\n",
       "</table>"
      ],
      "text/plain": [
       "[('Beverages', 'Côte de Blaye', 53274482.7, 1),\n",
       " ('Beverages', 'Ipoh Coffee', 9334927.2, 2),\n",
       " ('Beverages', 'Chang', 3832714.2, 3),\n",
       " ('Condiments', 'Vegie-spread', 8811700.4, 1),\n",
       " ('Condiments', 'Northwoods Cranberry Sauce', 8074640.0, 2),\n",
       " ('Condiments', \"Sirop d'érable\", 5841895.8, 3),\n",
       " ('Confections', \"Sir Rodney's Marmalade\", 16654879.8, 1),\n",
       " ('Confections', 'Tarte au sucre', 9955529.0, 2),\n",
       " ('Confections', 'Schoggi Schokolade', 8829210.1, 3),\n",
       " ('Dairy Products', 'Raclette Courdavault', 11221551.0, 1),\n",
       " ('Dairy Products', 'Queso Manchego La Pastora', 7684990.8, 2),\n",
       " ('Dairy Products', 'Gudbrandsdalsost', 7232947.2, 3),\n",
       " ('Grains/Cereals', 'Gnocchi di nonna Alice', 7649415.2, 1),\n",
       " ('Grains/Cereals', 'Wimmers gute Semmelknödel', 6689800.25, 2),\n",
       " ('Grains/Cereals', \"Gustaf's Knäckebröd\", 4204838.4, 3),\n",
       " ('Meat/Poultry', 'Thüringer Rostbratwurst', 24630836.96, 1),\n",
       " ('Meat/Poultry', 'Mishi Kobe Niku', 19424638.0, 2),\n",
       " ('Meat/Poultry', 'Alice Mutton', 7887196.2, 3),\n",
       " ('Produce', 'Manjimup Dried Apples', 10667691.6, 1),\n",
       " ('Produce', 'Rössle Sauerkraut', 9253934.4, 2),\n",
       " ('Produce', \"Uncle Bob's Organic Dried Pears\", 6118674.0, 3),\n",
       " ('Seafood', 'Carnarvon Tigers', 12607487.5, 1),\n",
       " ('Seafood', 'Ikura', 6239996.2, 2),\n",
       " ('Seafood', 'Nord-Ost Matjeshering', 5262730.32, 3)]"
      ]
     },
     "execution_count": 14,
     "metadata": {},
     "output_type": "execute_result"
    }
   ],
   "source": [
    "%%sql\n",
    "WITH RankingPorCategoria AS (\n",
    "    SELECT \n",
    "        c.CategoryName,\n",
    "        p.ProductName,\n",
    "        ROUND(SUM(od.Quantity * od.UnitPrice), 2) AS TotalVentas,\n",
    "        RANK() OVER (\n",
    "            PARTITION BY c.CategoryID \n",
    "            ORDER BY SUM(od.Quantity * od.UnitPrice) DESC\n",
    "        ) AS RankingEnCategoria\n",
    "    FROM Categories c\n",
    "    JOIN Products p ON c.CategoryID = p.CategoryID\n",
    "    JOIN \"Order Details\" od ON p.ProductID = od.ProductID\n",
    "    GROUP BY c.CategoryID, c.CategoryName, p.ProductID, p.ProductName\n",
    ")\n",
    "SELECT *\n",
    "FROM RankingPorCategoria\n",
    "WHERE RankingEnCategoria <= 1\n",
    "ORDER BY CategoryName, RankingEnCategoria;"
   ]
  },
  {
   "cell_type": "markdown",
   "metadata": {
    "vscode": {
     "languageId": "raw"
    }
   },
   "source": [
    "### 3.3 LAG y LEAD\n",
    "LAG nos permite acceder a datos de la fila anterior, mientras que LEAD nos permite acceder a datos de la fila siguiente.\n",
    "\n",
    "Veamos cómo varía el total de ventas mes a mes, mostrando el mes anterior y el siguiente:\n"
   ]
  },
  {
   "cell_type": "code",
   "execution_count": 15,
   "metadata": {},
   "outputs": [
    {
     "name": "stdout",
     "output_type": "stream",
     "text": [
      " * sqlite:///northwind.db\n",
      "Done.\n"
     ]
    },
    {
     "data": {
      "text/html": [
       "<table>\n",
       "    <thead>\n",
       "        <tr>\n",
       "            <th>Mes</th>\n",
       "            <th>TotalVentas</th>\n",
       "            <th>VentasMesAnterior</th>\n",
       "            <th>VentasMesSiguiente</th>\n",
       "        </tr>\n",
       "    </thead>\n",
       "    <tbody>\n",
       "        <tr>\n",
       "            <td>2023-10</td>\n",
       "            <td>2923364.35</td>\n",
       "            <td>3544698.51</td>\n",
       "            <td>None</td>\n",
       "        </tr>\n",
       "        <tr>\n",
       "            <td>2023-09</td>\n",
       "            <td>3544698.51</td>\n",
       "            <td>3293158.67</td>\n",
       "            <td>2923364.35</td>\n",
       "        </tr>\n",
       "        <tr>\n",
       "            <td>2023-08</td>\n",
       "            <td>3293158.67</td>\n",
       "            <td>3350337.36</td>\n",
       "            <td>3544698.51</td>\n",
       "        </tr>\n",
       "        <tr>\n",
       "            <td>2023-07</td>\n",
       "            <td>3350337.36</td>\n",
       "            <td>3071787.73</td>\n",
       "            <td>3293158.67</td>\n",
       "        </tr>\n",
       "        <tr>\n",
       "            <td>2023-06</td>\n",
       "            <td>3071787.73</td>\n",
       "            <td>3896544.35</td>\n",
       "            <td>3350337.36</td>\n",
       "        </tr>\n",
       "    </tbody>\n",
       "</table>"
      ],
      "text/plain": [
       "[('2023-10', 2923364.35, 3544698.51, None),\n",
       " ('2023-09', 3544698.51, 3293158.67, 2923364.35),\n",
       " ('2023-08', 3293158.67, 3350337.36, 3544698.51),\n",
       " ('2023-07', 3350337.36, 3071787.73, 3293158.67),\n",
       " ('2023-06', 3071787.73, 3896544.35, 3350337.36)]"
      ]
     },
     "execution_count": 15,
     "metadata": {},
     "output_type": "execute_result"
    }
   ],
   "source": [
    "%%sql\n",
    "WITH ventas_mensuales AS (\n",
    "    SELECT \n",
    "        strftime('%Y-%m', OrderDate) as Mes,\n",
    "        ROUND(SUM(od.Quantity * od.UnitPrice), 2) as TotalVentas\n",
    "    FROM Orders o\n",
    "    JOIN \"Order Details\" od ON o.OrderID = od.OrderID\n",
    "    GROUP BY strftime('%Y-%m', OrderDate)\n",
    ")\n",
    "SELECT \n",
    "    Mes,\n",
    "    TotalVentas,\n",
    "    LAG(TotalVentas) OVER (ORDER BY Mes) as VentasMesAnterior,\n",
    "    LEAD(TotalVentas) OVER (ORDER BY Mes) as VentasMesSiguiente\n",
    "FROM ventas_mensuales\n",
    "ORDER BY Mes DESC\n",
    "LIMIT 5;\n"
   ]
  },
  {
   "cell_type": "markdown",
   "metadata": {},
   "source": [
    "Nota: El dataset llega hasta el mes octubre de 2023, por eso no hay un dato en el mes siguiente de ese y da \"None\""
   ]
  },
  {
   "cell_type": "markdown",
   "metadata": {
    "vscode": {
     "languageId": "raw"
    }
   },
   "source": [
    "# Ejercicios\n",
    "\n",
    "A continuación se encuentran algunos ejercicios con estos conceptos más avanzados. Intentá resolver los siguientes ejercicios por tu cuenta. Las soluciones están al final del notebook.\n",
    "\n",
    "1. Usando HAVING, encontrá los clientes que hicieron más de 100 órdenes y cuyo promedio de monto por orden sea mayor a $750.\n"
   ]
  },
  {
   "cell_type": "code",
   "execution_count": null,
   "metadata": {},
   "outputs": [],
   "source": [
    "%%sql\n"
   ]
  },
  {
   "cell_type": "markdown",
   "metadata": {
    "vscode": {
     "languageId": "raw"
    }
   },
   "source": [
    "2. Usando una subconsulta en WHERE, encontrá los productos que tienen un precio unitario 5 veces mayor al promedio de su categoría.\n"
   ]
  },
  {
   "cell_type": "code",
   "execution_count": null,
   "metadata": {},
   "outputs": [],
   "source": [
    "%%sql\n"
   ]
  },
  {
   "cell_type": "markdown",
   "metadata": {
    "vscode": {
     "languageId": "raw"
    }
   },
   "source": [
    "3. Usando RANK(), mostrá el top 3 de productos más vendidos por categoría en términos de unidades vendidas.\n"
   ]
  },
  {
   "cell_type": "code",
   "execution_count": null,
   "metadata": {},
   "outputs": [],
   "source": [
    "%%sql\n"
   ]
  },
  {
   "cell_type": "markdown",
   "metadata": {
    "vscode": {
     "languageId": "raw"
    }
   },
   "source": [
    "4. Mostrar los clientes que hayan realizado más órdenes que el promedio de órdenes por cliente en la base, junto con la cantidad total de órdenes que hicieron."
   ]
  },
  {
   "cell_type": "code",
   "execution_count": null,
   "metadata": {},
   "outputs": [],
   "source": [
    "%%sql\n"
   ]
  },
  {
   "cell_type": "markdown",
   "metadata": {
    "vscode": {
     "languageId": "raw"
    }
   },
   "source": [
    "5. Usando una CTE y funciones de ventana, encontrá para cada empleado:\n",
    "   - Su total de ventas\n",
    "   - El promedio de ventas de su territorio\n",
    "   - Qué porcentaje representa sus ventas sobre el total de su territorio"
   ]
  },
  {
   "cell_type": "code",
   "execution_count": null,
   "metadata": {},
   "outputs": [],
   "source": [
    "%%sql\n"
   ]
  },
  {
   "cell_type": "markdown",
   "metadata": {
    "vscode": {
     "languageId": "raw"
    }
   },
   "source": [
    "# Soluciones\n",
    "\n",
    "A continuación se encuentran las soluciones para los ejercicios planteados. Intentá resolverlos por tu cuenta antes de ver las respuestas.\n",
    "\n",
    "1. Usando HAVING, encontrá los clientes que hicieron más de 100 órdenes y cuyo promedio de monto por orden sea mayor a $750.\n"
   ]
  },
  {
   "cell_type": "code",
   "execution_count": 21,
   "metadata": {},
   "outputs": [
    {
     "name": "stdout",
     "output_type": "stream",
     "text": [
      " * sqlite:///northwind.db\n",
      "Done.\n"
     ]
    },
    {
     "data": {
      "text/html": [
       "<table>\n",
       "    <thead>\n",
       "        <tr>\n",
       "            <th>CompanyName</th>\n",
       "            <th>TotalOrdenes</th>\n",
       "            <th>MontoPromedioOrden</th>\n",
       "        </tr>\n",
       "    </thead>\n",
       "    <tbody>\n",
       "        <tr>\n",
       "            <td>Hanari Carnes</td>\n",
       "            <td>180</td>\n",
       "            <td>755.44</td>\n",
       "        </tr>\n",
       "        <tr>\n",
       "            <td>Bólido Comidas preparadas</td>\n",
       "            <td>182</td>\n",
       "            <td>754.7</td>\n",
       "        </tr>\n",
       "        <tr>\n",
       "            <td>Maison Dewey</td>\n",
       "            <td>162</td>\n",
       "            <td>753.64</td>\n",
       "        </tr>\n",
       "        <tr>\n",
       "            <td>Vins et alcools Chevalier</td>\n",
       "            <td>158</td>\n",
       "            <td>752.9</td>\n",
       "        </tr>\n",
       "        <tr>\n",
       "            <td>Familia Arquibaldo</td>\n",
       "            <td>168</td>\n",
       "            <td>750.94</td>\n",
       "        </tr>\n",
       "        <tr>\n",
       "            <td>Save-a-lot Markets</td>\n",
       "            <td>190</td>\n",
       "            <td>750.73</td>\n",
       "        </tr>\n",
       "        <tr>\n",
       "            <td>Rancho grande</td>\n",
       "            <td>194</td>\n",
       "            <td>750.62</td>\n",
       "        </tr>\n",
       "    </tbody>\n",
       "</table>"
      ],
      "text/plain": [
       "[('Hanari Carnes', 180, 755.44),\n",
       " ('Bólido Comidas preparadas', 182, 754.7),\n",
       " ('Maison Dewey', 162, 753.64),\n",
       " ('Vins et alcools Chevalier', 158, 752.9),\n",
       " ('Familia Arquibaldo', 168, 750.94),\n",
       " ('Save-a-lot Markets', 190, 750.73),\n",
       " ('Rancho grande', 194, 750.62)]"
      ]
     },
     "execution_count": 21,
     "metadata": {},
     "output_type": "execute_result"
    }
   ],
   "source": [
    "%%sql\n",
    "SELECT \n",
    "    c.CompanyName,\n",
    "    COUNT(DISTINCT o.OrderID) as TotalOrdenes,\n",
    "    ROUND(AVG(od.Quantity * od.UnitPrice), 2) as MontoPromedioOrden\n",
    "FROM Customers c\n",
    "JOIN Orders o ON c.CustomerID = o.CustomerID\n",
    "JOIN \"Order Details\" od ON o.OrderID = od.OrderID\n",
    "GROUP BY c.CustomerID, c.CompanyName\n",
    "HAVING COUNT(DISTINCT o.OrderID) > 100\n",
    "   AND AVG(od.Quantity * od.UnitPrice) > 750\n",
    "ORDER BY MontoPromedioOrden DESC;"
   ]
  },
  {
   "cell_type": "markdown",
   "metadata": {
    "vscode": {
     "languageId": "raw"
    }
   },
   "source": [
    "2. Usando una subconsulta en WHERE, encontrá los productos que tienen un precio unitario 5 veces mayor al promedio de su categoría."
   ]
  },
  {
   "cell_type": "code",
   "execution_count": 27,
   "metadata": {},
   "outputs": [
    {
     "name": "stdout",
     "output_type": "stream",
     "text": [
      " * sqlite:///northwind.db\n",
      "Done.\n"
     ]
    },
    {
     "data": {
      "text/html": [
       "<table>\n",
       "    <thead>\n",
       "        <tr>\n",
       "            <th>CategoryName</th>\n",
       "            <th>ProductName</th>\n",
       "            <th>UnitPrice</th>\n",
       "            <th>PromedioCategoria</th>\n",
       "        </tr>\n",
       "    </thead>\n",
       "    <tbody>\n",
       "        <tr>\n",
       "            <td>Beverages</td>\n",
       "            <td>Côte de Blaye</td>\n",
       "            <td>263.5</td>\n",
       "            <td>37.98</td>\n",
       "        </tr>\n",
       "    </tbody>\n",
       "</table>"
      ],
      "text/plain": [
       "[('Beverages', 'Côte de Blaye', 263.5, 37.98)]"
      ]
     },
     "execution_count": 27,
     "metadata": {},
     "output_type": "execute_result"
    }
   ],
   "source": [
    "%%sql\n",
    "SELECT \n",
    "    c.CategoryName,\n",
    "    p.ProductName,\n",
    "    p.UnitPrice,\n",
    "    (\n",
    "        SELECT ROUND(AVG(p2.UnitPrice), 2)\n",
    "        FROM Products p2\n",
    "        WHERE p2.CategoryID = p.CategoryID\n",
    "    ) AS PromedioCategoria\n",
    "FROM Products p\n",
    "JOIN Categories c ON p.CategoryID = c.CategoryID\n",
    "WHERE p.UnitPrice > (\n",
    "    SELECT 5 * AVG(p2.UnitPrice)\n",
    "    FROM Products p2\n",
    "    WHERE p2.CategoryID = p.CategoryID\n",
    ")\n",
    "ORDER BY c.CategoryName, p.UnitPrice DESC;\n"
   ]
  },
  {
   "cell_type": "markdown",
   "metadata": {
    "vscode": {
     "languageId": "raw"
    }
   },
   "source": [
    "3. Usando RANK(), mostrá el top 3 de productos más vendidos por categoría en términos de unidades vendidas."
   ]
  },
  {
   "cell_type": "code",
   "execution_count": 28,
   "metadata": {},
   "outputs": [
    {
     "name": "stdout",
     "output_type": "stream",
     "text": [
      " * sqlite:///northwind.db\n",
      "Done.\n"
     ]
    },
    {
     "data": {
      "text/html": [
       "<table>\n",
       "    <thead>\n",
       "        <tr>\n",
       "            <th>CategoryName</th>\n",
       "            <th>ProductName</th>\n",
       "            <th>UnidadesVendidas</th>\n",
       "            <th>Ranking</th>\n",
       "        </tr>\n",
       "    </thead>\n",
       "    <tbody>\n",
       "        <tr>\n",
       "            <td>Beverages</td>\n",
       "            <td>Outback Lager</td>\n",
       "            <td>204403</td>\n",
       "            <td>1</td>\n",
       "        </tr>\n",
       "        <tr>\n",
       "            <td>Beverages</td>\n",
       "            <td>Sasquatch Ale</td>\n",
       "            <td>203667</td>\n",
       "            <td>2</td>\n",
       "        </tr>\n",
       "        <tr>\n",
       "            <td>Beverages</td>\n",
       "            <td>Ipoh Coffee</td>\n",
       "            <td>202968</td>\n",
       "            <td>3</td>\n",
       "        </tr>\n",
       "        <tr>\n",
       "            <td>Condiments</td>\n",
       "            <td>Louisiana Hot Spiced Okra</td>\n",
       "            <td>206213</td>\n",
       "            <td>1</td>\n",
       "        </tr>\n",
       "        <tr>\n",
       "            <td>Condiments</td>\n",
       "            <td>Sirop d&#x27;érable</td>\n",
       "            <td>205005</td>\n",
       "            <td>2</td>\n",
       "        </tr>\n",
       "        <tr>\n",
       "            <td>Condiments</td>\n",
       "            <td>Aniseed Syrup</td>\n",
       "            <td>202186</td>\n",
       "            <td>3</td>\n",
       "        </tr>\n",
       "        <tr>\n",
       "            <td>Confections</td>\n",
       "            <td>Sir Rodney&#x27;s Marmalade</td>\n",
       "            <td>205637</td>\n",
       "            <td>1</td>\n",
       "        </tr>\n",
       "        <tr>\n",
       "            <td>Confections</td>\n",
       "            <td>Teatime Chocolate Biscuits</td>\n",
       "            <td>205487</td>\n",
       "            <td>2</td>\n",
       "        </tr>\n",
       "        <tr>\n",
       "            <td>Confections</td>\n",
       "            <td>Gumbär Gummibärchen</td>\n",
       "            <td>204761</td>\n",
       "            <td>3</td>\n",
       "        </tr>\n",
       "        <tr>\n",
       "            <td>Dairy Products</td>\n",
       "            <td>Raclette Courdavault</td>\n",
       "            <td>204137</td>\n",
       "            <td>1</td>\n",
       "        </tr>\n",
       "        <tr>\n",
       "            <td>Dairy Products</td>\n",
       "            <td>Gorgonzola Telino</td>\n",
       "            <td>203616</td>\n",
       "            <td>2</td>\n",
       "        </tr>\n",
       "        <tr>\n",
       "            <td>Dairy Products</td>\n",
       "            <td>Camembert Pierrot</td>\n",
       "            <td>203154</td>\n",
       "            <td>3</td>\n",
       "        </tr>\n",
       "        <tr>\n",
       "            <td>Grains/Cereals</td>\n",
       "            <td>Ravioli Angelo</td>\n",
       "            <td>204251</td>\n",
       "            <td>1</td>\n",
       "        </tr>\n",
       "        <tr>\n",
       "            <td>Grains/Cereals</td>\n",
       "            <td>Filo Mix</td>\n",
       "            <td>203091</td>\n",
       "            <td>2</td>\n",
       "        </tr>\n",
       "        <tr>\n",
       "            <td>Grains/Cereals</td>\n",
       "            <td>Tunnbröd</td>\n",
       "            <td>202136</td>\n",
       "            <td>3</td>\n",
       "        </tr>\n",
       "        <tr>\n",
       "            <td>Meat/Poultry</td>\n",
       "            <td>Pâté chinois</td>\n",
       "            <td>203486</td>\n",
       "            <td>1</td>\n",
       "        </tr>\n",
       "        <tr>\n",
       "            <td>Meat/Poultry</td>\n",
       "            <td>Tourtière</td>\n",
       "            <td>202688</td>\n",
       "            <td>2</td>\n",
       "        </tr>\n",
       "        <tr>\n",
       "            <td>Meat/Poultry</td>\n",
       "            <td>Alice Mutton</td>\n",
       "            <td>202304</td>\n",
       "            <td>3</td>\n",
       "        </tr>\n",
       "        <tr>\n",
       "            <td>Produce</td>\n",
       "            <td>Uncle Bob&#x27;s Organic Dried Pears</td>\n",
       "            <td>203970</td>\n",
       "            <td>1</td>\n",
       "        </tr>\n",
       "        <tr>\n",
       "            <td>Produce</td>\n",
       "            <td>Rössle Sauerkraut</td>\n",
       "            <td>202988</td>\n",
       "            <td>2</td>\n",
       "        </tr>\n",
       "        <tr>\n",
       "            <td>Produce</td>\n",
       "            <td>Longlife Tofu</td>\n",
       "            <td>202113</td>\n",
       "            <td>3</td>\n",
       "        </tr>\n",
       "        <tr>\n",
       "            <td>Seafood</td>\n",
       "            <td>Nord-Ost Matjeshering</td>\n",
       "            <td>203314</td>\n",
       "            <td>1</td>\n",
       "        </tr>\n",
       "        <tr>\n",
       "            <td>Seafood</td>\n",
       "            <td>Konbu</td>\n",
       "            <td>202499</td>\n",
       "            <td>2</td>\n",
       "        </tr>\n",
       "        <tr>\n",
       "            <td>Seafood</td>\n",
       "            <td>Gravad lax</td>\n",
       "            <td>201750</td>\n",
       "            <td>3</td>\n",
       "        </tr>\n",
       "    </tbody>\n",
       "</table>"
      ],
      "text/plain": [
       "[('Beverages', 'Outback Lager', 204403, 1),\n",
       " ('Beverages', 'Sasquatch Ale', 203667, 2),\n",
       " ('Beverages', 'Ipoh Coffee', 202968, 3),\n",
       " ('Condiments', 'Louisiana Hot Spiced Okra', 206213, 1),\n",
       " ('Condiments', \"Sirop d'érable\", 205005, 2),\n",
       " ('Condiments', 'Aniseed Syrup', 202186, 3),\n",
       " ('Confections', \"Sir Rodney's Marmalade\", 205637, 1),\n",
       " ('Confections', 'Teatime Chocolate Biscuits', 205487, 2),\n",
       " ('Confections', 'Gumbär Gummibärchen', 204761, 3),\n",
       " ('Dairy Products', 'Raclette Courdavault', 204137, 1),\n",
       " ('Dairy Products', 'Gorgonzola Telino', 203616, 2),\n",
       " ('Dairy Products', 'Camembert Pierrot', 203154, 3),\n",
       " ('Grains/Cereals', 'Ravioli Angelo', 204251, 1),\n",
       " ('Grains/Cereals', 'Filo Mix', 203091, 2),\n",
       " ('Grains/Cereals', 'Tunnbröd', 202136, 3),\n",
       " ('Meat/Poultry', 'Pâté chinois', 203486, 1),\n",
       " ('Meat/Poultry', 'Tourtière', 202688, 2),\n",
       " ('Meat/Poultry', 'Alice Mutton', 202304, 3),\n",
       " ('Produce', \"Uncle Bob's Organic Dried Pears\", 203970, 1),\n",
       " ('Produce', 'Rössle Sauerkraut', 202988, 2),\n",
       " ('Produce', 'Longlife Tofu', 202113, 3),\n",
       " ('Seafood', 'Nord-Ost Matjeshering', 203314, 1),\n",
       " ('Seafood', 'Konbu', 202499, 2),\n",
       " ('Seafood', 'Gravad lax', 201750, 3)]"
      ]
     },
     "execution_count": 28,
     "metadata": {},
     "output_type": "execute_result"
    }
   ],
   "source": [
    "%%sql\n",
    "WITH ventas_producto AS (\n",
    "    SELECT \n",
    "        c.CategoryName,\n",
    "        p.ProductName,\n",
    "        SUM(od.Quantity) as UnidadesVendidas,\n",
    "        RANK() OVER (\n",
    "            PARTITION BY c.CategoryID \n",
    "            ORDER BY SUM(od.Quantity) DESC\n",
    "        ) as Ranking\n",
    "    FROM Categories c\n",
    "    JOIN Products p ON c.CategoryID = p.CategoryID\n",
    "    JOIN \"Order Details\" od ON p.ProductID = od.ProductID\n",
    "    GROUP BY c.CategoryID, c.CategoryName, p.ProductID, p.ProductName\n",
    ")\n",
    "SELECT *\n",
    "FROM ventas_producto\n",
    "WHERE Ranking <= 3\n",
    "ORDER BY CategoryName, Ranking;"
   ]
  },
  {
   "cell_type": "markdown",
   "metadata": {
    "vscode": {
     "languageId": "raw"
    }
   },
   "source": [
    "4. Mostrar los clientes que hayan realizado más órdenes que el promedio de órdenes por cliente en la base, junto con la cantidad total de órdenes que hicieron."
   ]
  },
  {
   "cell_type": "code",
   "execution_count": 41,
   "metadata": {},
   "outputs": [
    {
     "name": "stdout",
     "output_type": "stream",
     "text": [
      " * sqlite:///northwind.db\n",
      "Done.\n"
     ]
    },
    {
     "data": {
      "text/html": [
       "<table>\n",
       "    <thead>\n",
       "        <tr>\n",
       "            <th>CompanyName</th>\n",
       "            <th>CantidadOrdenes</th>\n",
       "            <th>PromedioOrdenes</th>\n",
       "        </tr>\n",
       "    </thead>\n",
       "    <tbody>\n",
       "        <tr>\n",
       "            <td>B&#x27;s Beverages</td>\n",
       "            <td>210</td>\n",
       "            <td>175.08</td>\n",
       "        </tr>\n",
       "        <tr>\n",
       "            <td>LILA-Supermercado</td>\n",
       "            <td>203</td>\n",
       "            <td>175.08</td>\n",
       "        </tr>\n",
       "        <tr>\n",
       "            <td>Ricardo Adocicados</td>\n",
       "            <td>203</td>\n",
       "            <td>175.08</td>\n",
       "        </tr>\n",
       "        <tr>\n",
       "            <td>Gourmet Lanchonetes</td>\n",
       "            <td>202</td>\n",
       "            <td>175.08</td>\n",
       "        </tr>\n",
       "        <tr>\n",
       "            <td>Princesa Isabel Vinhos</td>\n",
       "            <td>200</td>\n",
       "            <td>175.08</td>\n",
       "        </tr>\n",
       "        <tr>\n",
       "            <td>Hungry Coyote Import Store</td>\n",
       "            <td>198</td>\n",
       "            <td>175.08</td>\n",
       "        </tr>\n",
       "        <tr>\n",
       "            <td>Tortuga Restaurante</td>\n",
       "            <td>197</td>\n",
       "            <td>175.08</td>\n",
       "        </tr>\n",
       "        <tr>\n",
       "            <td>Ana Trujillo Emparedados y helados</td>\n",
       "            <td>195</td>\n",
       "            <td>175.08</td>\n",
       "        </tr>\n",
       "        <tr>\n",
       "            <td>Folies gourmandes</td>\n",
       "            <td>195</td>\n",
       "            <td>175.08</td>\n",
       "        </tr>\n",
       "        <tr>\n",
       "            <td>Rancho grande</td>\n",
       "            <td>194</td>\n",
       "            <td>175.08</td>\n",
       "        </tr>\n",
       "        <tr>\n",
       "            <td>Let&#x27;s Stop N Shop</td>\n",
       "            <td>191</td>\n",
       "            <td>175.08</td>\n",
       "        </tr>\n",
       "        <tr>\n",
       "            <td>Save-a-lot Markets</td>\n",
       "            <td>190</td>\n",
       "            <td>175.08</td>\n",
       "        </tr>\n",
       "        <tr>\n",
       "            <td>Spécialités du monde</td>\n",
       "            <td>188</td>\n",
       "            <td>175.08</td>\n",
       "        </tr>\n",
       "        <tr>\n",
       "            <td>Tradição Hipermercados</td>\n",
       "            <td>188</td>\n",
       "            <td>175.08</td>\n",
       "        </tr>\n",
       "        <tr>\n",
       "            <td>Victuailles en stock</td>\n",
       "            <td>188</td>\n",
       "            <td>175.08</td>\n",
       "        </tr>\n",
       "        <tr>\n",
       "            <td>Ernst Handel</td>\n",
       "            <td>187</td>\n",
       "            <td>175.08</td>\n",
       "        </tr>\n",
       "        <tr>\n",
       "            <td>France restauration</td>\n",
       "            <td>187</td>\n",
       "            <td>175.08</td>\n",
       "        </tr>\n",
       "        <tr>\n",
       "            <td>Bottom-Dollar Markets</td>\n",
       "            <td>185</td>\n",
       "            <td>175.08</td>\n",
       "        </tr>\n",
       "        <tr>\n",
       "            <td>Island Trading</td>\n",
       "            <td>185</td>\n",
       "            <td>175.08</td>\n",
       "        </tr>\n",
       "        <tr>\n",
       "            <td>La maison d&#x27;Asie</td>\n",
       "            <td>185</td>\n",
       "            <td>175.08</td>\n",
       "        </tr>\n",
       "        <tr>\n",
       "            <td>Queen Cozinha</td>\n",
       "            <td>185</td>\n",
       "            <td>175.08</td>\n",
       "        </tr>\n",
       "        <tr>\n",
       "            <td>Wellington Importadora</td>\n",
       "            <td>185</td>\n",
       "            <td>175.08</td>\n",
       "        </tr>\n",
       "        <tr>\n",
       "            <td>Franchi S.p.A.</td>\n",
       "            <td>184</td>\n",
       "            <td>175.08</td>\n",
       "        </tr>\n",
       "        <tr>\n",
       "            <td>Chop-suey Chinese</td>\n",
       "            <td>183</td>\n",
       "            <td>175.08</td>\n",
       "        </tr>\n",
       "        <tr>\n",
       "            <td>QUICK-Stop</td>\n",
       "            <td>183</td>\n",
       "            <td>175.08</td>\n",
       "        </tr>\n",
       "        <tr>\n",
       "            <td>White Clover Markets</td>\n",
       "            <td>183</td>\n",
       "            <td>175.08</td>\n",
       "        </tr>\n",
       "        <tr>\n",
       "            <td>Bólido Comidas preparadas</td>\n",
       "            <td>182</td>\n",
       "            <td>175.08</td>\n",
       "        </tr>\n",
       "        <tr>\n",
       "            <td>Hungry Owl All-Night Grocers</td>\n",
       "            <td>182</td>\n",
       "            <td>175.08</td>\n",
       "        </tr>\n",
       "        <tr>\n",
       "            <td>Consolidated Holdings</td>\n",
       "            <td>180</td>\n",
       "            <td>175.08</td>\n",
       "        </tr>\n",
       "        <tr>\n",
       "            <td>Hanari Carnes</td>\n",
       "            <td>180</td>\n",
       "            <td>175.08</td>\n",
       "        </tr>\n",
       "        <tr>\n",
       "            <td>Comércio Mineiro</td>\n",
       "            <td>179</td>\n",
       "            <td>175.08</td>\n",
       "        </tr>\n",
       "        <tr>\n",
       "            <td>Berglunds snabbköp</td>\n",
       "            <td>178</td>\n",
       "            <td>175.08</td>\n",
       "        </tr>\n",
       "        <tr>\n",
       "            <td>HILARION-Abastos</td>\n",
       "            <td>178</td>\n",
       "            <td>175.08</td>\n",
       "        </tr>\n",
       "        <tr>\n",
       "            <td>Morgenstern Gesundkost</td>\n",
       "            <td>178</td>\n",
       "            <td>175.08</td>\n",
       "        </tr>\n",
       "        <tr>\n",
       "            <td>Great Lakes Food Market</td>\n",
       "            <td>177</td>\n",
       "            <td>175.08</td>\n",
       "        </tr>\n",
       "        <tr>\n",
       "            <td>Königlich Essen</td>\n",
       "            <td>177</td>\n",
       "            <td>175.08</td>\n",
       "        </tr>\n",
       "        <tr>\n",
       "            <td>LINO-Delicateses</td>\n",
       "            <td>177</td>\n",
       "            <td>175.08</td>\n",
       "        </tr>\n",
       "        <tr>\n",
       "            <td>Ottilies Käseladen</td>\n",
       "            <td>177</td>\n",
       "            <td>175.08</td>\n",
       "        </tr>\n",
       "        <tr>\n",
       "            <td>Piccolo und mehr</td>\n",
       "            <td>177</td>\n",
       "            <td>175.08</td>\n",
       "        </tr>\n",
       "        <tr>\n",
       "            <td>Wolski  Zajazd</td>\n",
       "            <td>177</td>\n",
       "            <td>175.08</td>\n",
       "        </tr>\n",
       "        <tr>\n",
       "            <td>Drachenblut Delikatessen</td>\n",
       "            <td>176</td>\n",
       "            <td>175.08</td>\n",
       "        </tr>\n",
       "        <tr>\n",
       "            <td>Old World Delicatessen</td>\n",
       "            <td>176</td>\n",
       "            <td>175.08</td>\n",
       "        </tr>\n",
       "        <tr>\n",
       "            <td>Romero y tomillo</td>\n",
       "            <td>176</td>\n",
       "            <td>175.08</td>\n",
       "        </tr>\n",
       "        <tr>\n",
       "            <td>IT</td>\n",
       "            <td>176</td>\n",
       "            <td>175.08</td>\n",
       "        </tr>\n",
       "    </tbody>\n",
       "</table>"
      ],
      "text/plain": [
       "[(\"B's Beverages\", 210, 175.08),\n",
       " ('LILA-Supermercado', 203, 175.08),\n",
       " ('Ricardo Adocicados', 203, 175.08),\n",
       " ('Gourmet Lanchonetes', 202, 175.08),\n",
       " ('Princesa Isabel Vinhos', 200, 175.08),\n",
       " ('Hungry Coyote Import Store', 198, 175.08),\n",
       " ('Tortuga Restaurante', 197, 175.08),\n",
       " ('Ana Trujillo Emparedados y helados', 195, 175.08),\n",
       " ('Folies gourmandes', 195, 175.08),\n",
       " ('Rancho grande', 194, 175.08),\n",
       " (\"Let's Stop N Shop\", 191, 175.08),\n",
       " ('Save-a-lot Markets', 190, 175.08),\n",
       " ('Spécialités du monde', 188, 175.08),\n",
       " ('Tradição Hipermercados', 188, 175.08),\n",
       " ('Victuailles en stock', 188, 175.08),\n",
       " ('Ernst Handel', 187, 175.08),\n",
       " ('France restauration', 187, 175.08),\n",
       " ('Bottom-Dollar Markets', 185, 175.08),\n",
       " ('Island Trading', 185, 175.08),\n",
       " (\"La maison d'Asie\", 185, 175.08),\n",
       " ('Queen Cozinha', 185, 175.08),\n",
       " ('Wellington Importadora', 185, 175.08),\n",
       " ('Franchi S.p.A.', 184, 175.08),\n",
       " ('Chop-suey Chinese', 183, 175.08),\n",
       " ('QUICK-Stop', 183, 175.08),\n",
       " ('White Clover Markets', 183, 175.08),\n",
       " ('Bólido Comidas preparadas', 182, 175.08),\n",
       " ('Hungry Owl All-Night Grocers', 182, 175.08),\n",
       " ('Consolidated Holdings', 180, 175.08),\n",
       " ('Hanari Carnes', 180, 175.08),\n",
       " ('Comércio Mineiro', 179, 175.08),\n",
       " ('Berglunds snabbköp', 178, 175.08),\n",
       " ('HILARION-Abastos', 178, 175.08),\n",
       " ('Morgenstern Gesundkost', 178, 175.08),\n",
       " ('Great Lakes Food Market', 177, 175.08),\n",
       " ('Königlich Essen', 177, 175.08),\n",
       " ('LINO-Delicateses', 177, 175.08),\n",
       " ('Ottilies Käseladen', 177, 175.08),\n",
       " ('Piccolo und mehr', 177, 175.08),\n",
       " ('Wolski  Zajazd', 177, 175.08),\n",
       " ('Drachenblut Delikatessen', 176, 175.08),\n",
       " ('Old World Delicatessen', 176, 175.08),\n",
       " ('Romero y tomillo', 176, 175.08),\n",
       " ('IT', 176, 175.08)]"
      ]
     },
     "execution_count": 41,
     "metadata": {},
     "output_type": "execute_result"
    }
   ],
   "source": [
    "%%sql\n",
    "SELECT\n",
    "    c.CompanyName,\n",
    "    COUNT(o.OrderID) AS CantidadOrdenes,\n",
    "    (\n",
    "        SELECT ROUND(AVG(CantidadOrdenes), 2)\n",
    "        FROM (\n",
    "            SELECT COUNT(OrderID) AS CantidadOrdenes\n",
    "            FROM Orders\n",
    "            GROUP BY CustomerID\n",
    "        )\n",
    "    ) AS PromedioOrdenes\n",
    "FROM Customers c\n",
    "JOIN Orders o ON c.CustomerID = o.CustomerID\n",
    "GROUP BY c.CustomerID, c.CompanyName\n",
    "HAVING COUNT(o.OrderID) > (\n",
    "    SELECT AVG(CantidadOrdenes)\n",
    "    FROM (\n",
    "        SELECT COUNT(OrderID) AS CantidadOrdenes\n",
    "        FROM Orders\n",
    "        GROUP BY CustomerID\n",
    "    )\n",
    ")\n",
    "ORDER BY CantidadOrdenes DESC;"
   ]
  },
  {
   "cell_type": "markdown",
   "metadata": {
    "vscode": {
     "languageId": "raw"
    }
   },
   "source": [
    "5. Usando una CTE y funciones de ventana, encontrá para cada empleado:\n",
    "   - Su total de ventas\n",
    "   - El promedio de ventas de su territorio\n",
    "   - Qué porcentaje representa sus ventas sobre el total de su territorio"
   ]
  },
  {
   "cell_type": "code",
   "execution_count": 29,
   "metadata": {},
   "outputs": [
    {
     "name": "stdout",
     "output_type": "stream",
     "text": [
      " * sqlite:///northwind.db\n",
      "Done.\n"
     ]
    },
    {
     "data": {
      "text/html": [
       "<table>\n",
       "    <thead>\n",
       "        <tr>\n",
       "            <th>Empleado</th>\n",
       "            <th>Territorio</th>\n",
       "            <th>TotalVentas</th>\n",
       "            <th>PromedioTerritorio</th>\n",
       "            <th>PorcentajeTerritorio</th>\n",
       "        </tr>\n",
       "    </thead>\n",
       "    <tbody>\n",
       "        <tr>\n",
       "            <td>Steven Buchanan</td>\n",
       "            <td>British Isles</td>\n",
       "            <td>51393234.57</td>\n",
       "            <td>49807861.88</td>\n",
       "            <td>25.8</td>\n",
       "        </tr>\n",
       "        <tr>\n",
       "            <td>Robert King</td>\n",
       "            <td>British Isles</td>\n",
       "            <td>49668627.06</td>\n",
       "            <td>49807861.88</td>\n",
       "            <td>24.93</td>\n",
       "        </tr>\n",
       "        <tr>\n",
       "            <td>Michael Suyama</td>\n",
       "            <td>British Isles</td>\n",
       "            <td>49144251.53</td>\n",
       "            <td>49807861.88</td>\n",
       "            <td>24.67</td>\n",
       "        </tr>\n",
       "        <tr>\n",
       "            <td>Anne Dodsworth</td>\n",
       "            <td>British Isles</td>\n",
       "            <td>49025334.37</td>\n",
       "            <td>49807861.88</td>\n",
       "            <td>24.61</td>\n",
       "        </tr>\n",
       "        <tr>\n",
       "            <td>Margaret Peacock</td>\n",
       "            <td>North America</td>\n",
       "            <td>51505691.8</td>\n",
       "            <td>49848770.24</td>\n",
       "            <td>20.66</td>\n",
       "        </tr>\n",
       "        <tr>\n",
       "            <td>Janet Leverling</td>\n",
       "            <td>North America</td>\n",
       "            <td>50455812.22</td>\n",
       "            <td>49848770.24</td>\n",
       "            <td>20.24</td>\n",
       "        </tr>\n",
       "        <tr>\n",
       "            <td>Nancy Davolio</td>\n",
       "            <td>North America</td>\n",
       "            <td>49669459.34</td>\n",
       "            <td>49848770.24</td>\n",
       "            <td>19.93</td>\n",
       "        </tr>\n",
       "        <tr>\n",
       "            <td>Laura Callahan</td>\n",
       "            <td>North America</td>\n",
       "            <td>49287575.56</td>\n",
       "            <td>49848770.24</td>\n",
       "            <td>19.77</td>\n",
       "        </tr>\n",
       "        <tr>\n",
       "            <td>Andrew Fuller</td>\n",
       "            <td>North America</td>\n",
       "            <td>48325312.27</td>\n",
       "            <td>49848770.24</td>\n",
       "            <td>19.39</td>\n",
       "        </tr>\n",
       "    </tbody>\n",
       "</table>"
      ],
      "text/plain": [
       "[('Steven Buchanan', 'British Isles', 51393234.57, 49807861.88, 25.8),\n",
       " ('Robert King', 'British Isles', 49668627.06, 49807861.88, 24.93),\n",
       " ('Michael Suyama', 'British Isles', 49144251.53, 49807861.88, 24.67),\n",
       " ('Anne Dodsworth', 'British Isles', 49025334.37, 49807861.88, 24.61),\n",
       " ('Margaret Peacock', 'North America', 51505691.8, 49848770.24, 20.66),\n",
       " ('Janet Leverling', 'North America', 50455812.22, 49848770.24, 20.24),\n",
       " ('Nancy Davolio', 'North America', 49669459.34, 49848770.24, 19.93),\n",
       " ('Laura Callahan', 'North America', 49287575.56, 49848770.24, 19.77),\n",
       " ('Andrew Fuller', 'North America', 48325312.27, 49848770.24, 19.39)]"
      ]
     },
     "execution_count": 29,
     "metadata": {},
     "output_type": "execute_result"
    }
   ],
   "source": [
    "%%sql\n",
    "WITH ventas_empleado AS (\n",
    "    SELECT \n",
    "        e.FirstName || ' ' || e.LastName as Empleado,\n",
    "        e.Region as Territorio,\n",
    "        ROUND(SUM(od.Quantity * od.UnitPrice), 2) as TotalVentas\n",
    "    FROM Employees e\n",
    "    JOIN Orders o ON e.EmployeeID = o.EmployeeID\n",
    "    JOIN \"Order Details\" od ON o.OrderID = od.OrderID\n",
    "    GROUP BY e.EmployeeID, Empleado, e.Region\n",
    ")\n",
    "SELECT \n",
    "    Empleado,\n",
    "    Territorio,\n",
    "    TotalVentas,\n",
    "    ROUND(AVG(TotalVentas) OVER (PARTITION BY Territorio), 2) as PromedioTerritorio,\n",
    "    ROUND(TotalVentas * 100.0 / SUM(TotalVentas) OVER (PARTITION BY Territorio), 2) as PorcentajeTerritorio\n",
    "FROM ventas_empleado\n",
    "ORDER BY Territorio, TotalVentas DESC;"
   ]
  }
 ],
 "metadata": {
  "kernelspec": {
   "display_name": "env",
   "language": "python",
   "name": "python3"
  },
  "language_info": {
   "codemirror_mode": {
    "name": "ipython",
    "version": 3
   },
   "file_extension": ".py",
   "mimetype": "text/x-python",
   "name": "python",
   "nbconvert_exporter": "python",
   "pygments_lexer": "ipython3",
   "version": "3.13.3"
  }
 },
 "nbformat": 4,
 "nbformat_minor": 2
}
